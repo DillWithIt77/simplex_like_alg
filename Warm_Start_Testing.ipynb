{
 "cells": [
  {
   "cell_type": "markdown",
   "id": "11503de9-e60e-4b8a-a75e-295a56861d04",
   "metadata": {},
   "source": [
    "# Warm Start Testing"
   ]
  },
  {
   "cell_type": "code",
   "execution_count": 1,
   "id": "ea5d230e-c1a9-48b2-b338-5e1d46ab7894",
   "metadata": {},
   "outputs": [],
   "source": [
    "import numpy as np\n",
    "import gurobipy as gp\n",
    "import math\n",
    "import sympy\n",
    "import contextlib\n",
    "import time\n",
    "import os\n",
    "from utils import result, METHODS, INF, EPS\n",
    "from mps_reader_preprocessor import read_mps_preprocess\n",
    "from polyhedral_model import PolyhedralModel\n",
    "from polyhedron import Polyhedron"
   ]
  },
  {
   "cell_type": "markdown",
   "id": "5edb1ae9-ede6-4406-8f52-17a07cc4fc21",
   "metadata": {},
   "source": [
    "## Read in Polyhedron P"
   ]
  },
  {
   "cell_type": "code",
   "execution_count": 2,
   "id": "20c8625a-150c-419c-a17d-82498ade3983",
   "metadata": {},
   "outputs": [],
   "source": [
    "# problems = ['adlittle', 'afiro', 'agg2','agg3','agg', 'bandm',\n",
    "#  'beaconfd', 'blend', 'bnl1', 'boeing1', 'boeing2', 'bore3d', 'brandy', 'capri',\n",
    "#  'cre-c', 'cycle', 'degen2', 'degen3', 'e226', 'etamacro', 'fffff800', 'finnis',\n",
    "#  'fit1d', 'fit1p', 'forplan', 'ganges', 'gfrd-pnc', 'grow15', 'grow22', 'grow7',\n",
    "#  'israel', 'kb2', 'ken-07', 'lotfi', 'maros', 'modszk1', 'pds-02', 'perold',\n",
    "#  'pilot4', 'pilotnov', 'qap08', 'recipe', 'sc105', 'sc205', 'sc50a',\n",
    "#  'sc50b', 'scagr25', 'scagr7', 'scfxm1', 'scfxm2', 'scfxm3', 'scorpion', 'scrs8',\n",
    "#  'scsd1', 'scsd6', 'scsd8', 'sctap1', 'sctap2', 'sctap3', 'seba', 'share1b',\n",
    "#  'share2b', 'shell', 'ship04l', 'ship04s', 'ship08l', 'ship08s', 'ship12l', 'ship12s',\n",
    "#  'sierra', 'stair', 'standata', 'standgub', 'standmps', 'stocfor1', 'stocfor2', 'tuff',\n",
    "#  'vtp_base', 'wood1p']\n",
    "\n",
    "\n",
    "# # mps_fn='C:\\Users\\DillW\\OneDrive - The University of Colorado Denver\\Documents\\GitHub\\simplex_like_alg\\netlib_lp_subset\\kb2'\n",
    "# for i in problems:\n",
    "#     problem_dir = 'netlib_lp_subset'\n",
    "#     # problem = 'afiro'\n",
    "#     mps_fn=os.path.join(problem_dir, i)\n",
    "#     results_dir='results'\n",
    "#     max_time=300\n",
    "#     sd_method='dual_simplex'\n",
    "#     reset=False,\n",
    "#     partition_polytope=False\n",
    "#     n=0\n",
    "#     k=0\n",
    "#     spindle=False\n",
    "#     spindle_dim=0\n",
    "#     n_cone_facets=0\n",
    "#     n_parallel_facets=0\n",
    "\n",
    "#     ### Build Initial Polyhedron from file\n",
    "#     print(f'Reading {mps_fn}...')\n",
    "#     c, B, d, A, b = read_mps_preprocess(mps_fn)\n",
    "#     print('Building polyhedron...')\n",
    "#     P = Polyhedron(B, d, A, b, c)"
   ]
  },
  {
   "cell_type": "code",
   "execution_count": 3,
   "id": "f2e7cc94-893c-4c3a-99bc-d3ac1d13e690",
   "metadata": {},
   "outputs": [],
   "source": [
    "problem_dir = 'netlib_lp_subset'\n",
    "# problem = 'kb2'\n",
    "# problem = 'adlittle'\n",
    "# problem = 'simple_ex'\n",
    "problem = 'network_ex'\n",
    "mps_fn=os.path.join(problem_dir, problem)\n",
    "results_dir='results'\n",
    "max_time=300\n",
    "sd_method='dual_simplex'\n",
    "reset=False,\n",
    "partition_polytope=False\n",
    "n=0\n",
    "k=0\n",
    "spindle=False\n",
    "spindle_dim=0\n",
    "n_cone_facets=0\n",
    "n_parallel_facets=0"
   ]
  },
  {
   "cell_type": "markdown",
   "id": "c19da83e-63fb-4e94-acd0-b580b1b3bb6a",
   "metadata": {},
   "source": [
    "## Perform SDCA"
   ]
  },
  {
   "cell_type": "markdown",
   "id": "bb5a96d0-0a0c-4174-9feb-8149962cac85",
   "metadata": {},
   "source": [
    "### Original Code"
   ]
  },
  {
   "cell_type": "code",
   "execution_count": 4,
   "id": "7bc49c8c-72d7-43c8-a8c1-3cfa73e49880",
   "metadata": {},
   "outputs": [
    {
     "name": "stdout",
     "output_type": "stream",
     "text": [
      "Reading netlib_lp_subset\\network_ex...\n",
      "Building polyhedron...\n",
      "Problem size: n = 5,  m_B = 10,  m_A = 4\n"
     ]
    }
   ],
   "source": [
    "### Build Initial Polyhedron from file\n",
    "print(f'Reading {mps_fn}...')\n",
    "c, B, d, A, b = read_mps_preprocess(mps_fn)\n",
    "print('Building polyhedron...')\n",
    "P = Polyhedron(B, d, A, b, c)"
   ]
  },
  {
   "cell_type": "code",
   "execution_count": 5,
   "id": "036cc460-23bc-4f03-8891-d89e4a9a5df0",
   "metadata": {},
   "outputs": [
    {
     "name": "stdout",
     "output_type": "stream",
     "text": [
      "Finding feasible solution...\n",
      "Set parameter Username\n",
      "Academic license - for non-commercial use only - expires 2025-04-01\n"
     ]
    }
   ],
   "source": [
    "print('Finding feasible solution...')\n",
    "x_feasible = P.find_feasible_solution(verbose=False)"
   ]
  },
  {
   "cell_type": "code",
   "execution_count": 6,
   "id": "0e1fc03f-8103-45fa-9a04-18f8520fb442",
   "metadata": {},
   "outputs": [
    {
     "name": "stdout",
     "output_type": "stream",
     "text": [
      "True\n",
      "True\n"
     ]
    }
   ],
   "source": [
    "equality = np.all(np.isclose(np.dot(A, np.array(x_feasible)), b))\n",
    "inequality = np.all(np.dot(B, np.array(x_feasible))<= d)\n",
    "print(equality)\n",
    "print(inequality)"
   ]
  },
  {
   "cell_type": "code",
   "execution_count": 7,
   "id": "f7a8c2f2-4186-4ef4-86a7-8c0c4840a36e",
   "metadata": {},
   "outputs": [],
   "source": [
    "x = x_feasible\n",
    "c=None\n",
    "verbose=False\n",
    "method='dual_simplex'\n",
    "reset=False\n",
    "max_time=300\n",
    "first_warm_start=None\n",
    "save_first_steps=0\n",
    "problem_name=''"
   ]
  },
  {
   "cell_type": "code",
   "execution_count": 8,
   "id": "f4b93c76-d80b-4801-9948-1bce34154759",
   "metadata": {},
   "outputs": [
    {
     "name": "stdout",
     "output_type": "stream",
     "text": [
      "Building polyhedral model. Solve method: dual_simplex\n",
      "Set parameter Method to value 1\n",
      "Polyhedral model built!\n",
      "\n",
      "Constraints:\n",
      "B_0: -1.0 x_0 + -1.0 y_pos_0 + y_neg_0 = 0.0\n",
      "B_1: x_0 + -1.0 y_pos_1 + y_neg_1 = 0.0\n",
      "B_2: -1.0 x_1 + -1.0 y_pos_2 + y_neg_2 = 0.0\n",
      "B_3: x_1 + -1.0 y_pos_3 + y_neg_3 = 0.0\n",
      "B_4: -1.0 x_2 + -1.0 y_pos_4 + y_neg_4 = 0.0\n",
      "B_5: x_2 + -1.0 y_pos_5 + y_neg_5 = 0.0\n",
      "B_6: -1.0 x_3 + -1.0 y_pos_6 + y_neg_6 = 0.0\n",
      "B_7: x_3 + -1.0 y_pos_7 + y_neg_7 = 0.0\n",
      "B_8: -1.0 x_4 + -1.0 y_pos_8 + y_neg_8 = 0.0\n",
      "B_9: x_4 + -1.0 y_pos_9 + y_neg_9 = 0.0\n",
      "1_norm: y_pos_0 + y_neg_0 + y_pos_1 + y_neg_1 + y_pos_2 + y_neg_2 + y_pos_3 + y_neg_3 + y_pos_4 + y_neg_4 + y_pos_5 + y_neg_5 + y_pos_6 + y_neg_6 + y_pos_7 + y_neg_7 + y_pos_8 + y_neg_8 + y_pos_9 + y_neg_9 = 1.0\n",
      "A_0: x_0 + x_1 = 0.0\n",
      "A_1: -1.0 x_0 + x_2 + x_3 = 0.0\n",
      "A_2: -1.0 x_1 + -1.0 x_2 + x_4 = 0.0\n",
      "A_3: -1.0 x_3 + -1.0 x_4 = 0.0\n",
      "Polyhedral model build time: 0.0020012855529785156\n",
      "after set solution: 1e+101\n",
      "after set solution: 1e+101\n",
      "after set solution: 1e+101\n",
      "after set solution: 1e+101\n",
      "after set solution: 1e+101\n",
      "[ 0.125 -0.125  0.     0.125 -0.125]\n",
      "\n",
      "Iteration 0\n",
      "Objective: 25.0\n",
      "Steepness: -0.125\n",
      "Step length: 40.0\n",
      "after set solution: 1e+101\n",
      "after set solution: 1e+101\n",
      "after set solution: 1e+101\n",
      "after set solution: 1e+101\n",
      "after set solution: 1e+101\n",
      "Total time for steepest-descent scheme: 0.0019996166229248047\n"
     ]
    }
   ],
   "source": [
    "if c is not None:\n",
    "    P.set_objective(c)\n",
    "\n",
    "t0 = time.time()\n",
    "x_current = x\n",
    "if save_first_steps:\n",
    "    np.save('solutions/{}_0.npy'.format(problem_name), x_current)      \n",
    "active_inds = P.get_active_constraints(x_current)\n",
    "# print(len(active_inds))\n",
    "    \n",
    "pm = P.build_polyhedral_model(active_inds=active_inds, method=method)\n",
    "\n",
    "if first_warm_start is not None:\n",
    "    print('Using custom warm start')\n",
    "    pm.set_solution(first_warm_start)\n",
    "t1 = time.time()\n",
    "build_time = t1 - t0\n",
    "print('Polyhedral model build time: {}'.format(build_time))\n",
    "    \n",
    "sub_times = {'sd': [], 'step': [], 'solve': [], 'phase_times': []}    \n",
    "descent_circuits = []\n",
    "obj_values = []\n",
    "step_sizes = []\n",
    "iter_times = []\n",
    "simplex_iters = []\n",
    "iteration = 0\n",
    "obj_value = P.c.dot(x_current)\n",
    "obj_values.append(obj_value)\n",
    "t2 = time.time()\n",
    "iter_times.append(t2 - t1)\n",
    "\n",
    "\n",
    "# compute steepest-descent direction\n",
    "descent_direction, y_pos, y_neg, steepness, num_steps, solve_time, phase_times = pm.compute_sd_direction(verbose=verbose)\n",
    "print(descent_direction)\n",
    "simplex_iters.append(num_steps)\n",
    "sub_times['solve'].append(solve_time)\n",
    "sub_times['phase_times'].append(phase_times)\n",
    "    \n",
    "t3 = time.time()\n",
    "sub_times['sd'].append(t3 - t2)\n",
    "    \n",
    "while abs(steepness) > EPS:\n",
    "        \n",
    "    t3 = time.time()\n",
    "    if reset:\n",
    "        pm.reset()\n",
    "        \n",
    "    # take maximal step\n",
    "    x_current, alpha, active_inds = P.take_maximal_step(descent_direction, y_pos, y_neg)  \n",
    "        \n",
    "    if iteration % 50 == 0 or iteration == 1:\n",
    "        print('\\nIteration {}'.format(iteration))\n",
    "        print('Objective: {}'.format(obj_value))\n",
    "        print('Steepness: {}'.format(steepness))\n",
    "        print('Step length: {}'.format(alpha))\n",
    "        \n",
    "    t4 = time.time()\n",
    "    obj_value = P.c.dot(x_current)\n",
    "    obj_values.append(obj_value)\n",
    "    iter_times.append(t4 - t1)\n",
    "    sub_times['step'].append(t4 - t3) \n",
    "    descent_circuits.append(descent_direction)\n",
    "    step_sizes.append(alpha)     \n",
    "                \n",
    "    if math.isinf(alpha):\n",
    "        # problem is unbounded\n",
    "        result(status=1, circuits=descent_circuits, steps=step_sizes)\n",
    "        \n",
    "    # compute steepest-descent direction\n",
    "    pm.set_active_inds(active_inds)\n",
    "    descent_direction, y_pos, y_neg, steepness, num_steps, solve_time, phase_times = pm.compute_sd_direction(\n",
    "                                                                                                verbose=verbose)\n",
    "        \n",
    "    t5 = time.time()\n",
    "    sub_times['sd'].append(t5 - t4)\n",
    "    sub_times['solve'].append(solve_time)\n",
    "    sub_times['phase_times'].append(phase_times)\n",
    "    simplex_iters.append(num_steps)\n",
    "        \n",
    "    iteration += 1\n",
    "    current_time = t5 - t1\n",
    "    if current_time > max_time:\n",
    "        result(status=2)\n",
    "    if iteration <= save_first_steps:\n",
    "        np.save('solutions/{}_{}.npy'.format(problem_name, iteration), x_current)\n",
    "\n",
    "t6 = time.time()\n",
    "total_time = t6 - t1   \n",
    "print('Total time for steepest-descent scheme: {}'.format(total_time))"
   ]
  },
  {
   "cell_type": "code",
   "execution_count": 9,
   "id": "0fd90c27-bfc3-4439-a0fd-5bd95df1c62d",
   "metadata": {},
   "outputs": [],
   "source": [
    "x_orig = x_current"
   ]
  },
  {
   "cell_type": "code",
   "execution_count": 10,
   "id": "d9a1a9cc-3b95-49c0-8567-275c1b89dea7",
   "metadata": {},
   "outputs": [
    {
     "data": {
      "text/plain": [
       "20.0"
      ]
     },
     "execution_count": 10,
     "metadata": {},
     "output_type": "execute_result"
    }
   ],
   "source": [
    "obj_values[-1]"
   ]
  },
  {
   "cell_type": "markdown",
   "id": "2f4bdfab-e2b3-4b1b-a030-70db5c768033",
   "metadata": {},
   "source": [
    "### Updated Code"
   ]
  },
  {
   "cell_type": "code",
   "execution_count": 11,
   "id": "19df5092-607e-42ff-82ab-383b4d6be24f",
   "metadata": {},
   "outputs": [
    {
     "name": "stdout",
     "output_type": "stream",
     "text": [
      "Reading netlib_lp_subset\\network_ex...\n",
      "Building polyhedron...\n",
      "Problem size: n = 5,  m_B = 10,  m_A = 4\n"
     ]
    }
   ],
   "source": [
    "### Build Initial Polyhedron from file\n",
    "print(f'Reading {mps_fn}...')\n",
    "c, B, d, A, b = read_mps_preprocess(mps_fn)\n",
    "print('Building polyhedron...')\n",
    "P = Polyhedron(B, d, A, b, c)"
   ]
  },
  {
   "cell_type": "code",
   "execution_count": 12,
   "id": "e03a3775-9c70-413b-ad68-7b9c08b3011b",
   "metadata": {},
   "outputs": [
    {
     "name": "stdout",
     "output_type": "stream",
     "text": [
      "Finding feasible solution...\n"
     ]
    }
   ],
   "source": [
    "print('Finding feasible solution...')\n",
    "x_feasible = P.find_feasible_solution(verbose=False)"
   ]
  },
  {
   "cell_type": "code",
   "execution_count": 13,
   "id": "c3c4e908-3e4a-4292-a563-32bbf2b62ce3",
   "metadata": {},
   "outputs": [
    {
     "name": "stdout",
     "output_type": "stream",
     "text": [
      "equality constraints satisfied by feaisble soln: True\n",
      "inequality constraints satisfied by feaisble soln: True\n"
     ]
    }
   ],
   "source": [
    "eq_cont_sat = np.all(np.isclose(np.dot(A, np.array(x_feasible)),b))\n",
    "ineq_cont_sat = np.all(np.dot(B, np.array(x_feasible)) <=d)\n",
    "print(f'equality constraints satisfied by feaisble soln: {eq_cont_sat}')\n",
    "print(f'inequality constraints satisfied by feaisble soln: {ineq_cont_sat}')"
   ]
  },
  {
   "cell_type": "code",
   "execution_count": 14,
   "id": "c4266974-53a6-44c0-a0b3-5a6b47843075",
   "metadata": {},
   "outputs": [],
   "source": [
    "x = x_feasible\n",
    "c=None\n",
    "verbose=False\n",
    "method='dual_simplex'\n",
    "reset=False\n",
    "max_time=300\n",
    "first_warm_start=None\n",
    "save_first_steps=0\n",
    "problem_name=''"
   ]
  },
  {
   "cell_type": "code",
   "execution_count": 15,
   "id": "d53c7d94-746c-4718-9a2c-7bc403616093",
   "metadata": {},
   "outputs": [
    {
     "name": "stdout",
     "output_type": "stream",
     "text": [
      "Building polyhedral model. Solve method: dual_simplex\n",
      "Set parameter Method to value 1\n",
      "Polyhedral model built!\n",
      "\n",
      "Constraints:\n",
      "B_0: -1.0 x_0 + -1.0 y_pos_0 + y_neg_0 = 0.0\n",
      "B_1: x_0 + -1.0 y_pos_1 + y_neg_1 = 0.0\n",
      "B_2: -1.0 x_1 + -1.0 y_pos_2 + y_neg_2 = 0.0\n",
      "B_3: x_1 + -1.0 y_pos_3 + y_neg_3 = 0.0\n",
      "B_4: -1.0 x_2 + -1.0 y_pos_4 + y_neg_4 = 0.0\n",
      "B_5: x_2 + -1.0 y_pos_5 + y_neg_5 = 0.0\n",
      "B_6: -1.0 x_3 + -1.0 y_pos_6 + y_neg_6 = 0.0\n",
      "B_7: x_3 + -1.0 y_pos_7 + y_neg_7 = 0.0\n",
      "B_8: -1.0 x_4 + -1.0 y_pos_8 + y_neg_8 = 0.0\n",
      "B_9: x_4 + -1.0 y_pos_9 + y_neg_9 = 0.0\n",
      "1_norm: y_pos_0 + y_neg_0 + y_pos_1 + y_neg_1 + y_pos_2 + y_neg_2 + y_pos_3 + y_neg_3 + y_pos_4 + y_neg_4 + y_pos_5 + y_neg_5 + y_pos_6 + y_neg_6 + y_pos_7 + y_neg_7 + y_pos_8 + y_neg_8 + y_pos_9 + y_neg_9 = 1.0\n",
      "A_0: x_0 + x_1 = 0.0\n",
      "A_1: -1.0 x_0 + x_2 + x_3 = 0.0\n",
      "A_2: -1.0 x_1 + -1.0 x_2 + x_4 = 0.0\n",
      "A_3: -1.0 x_3 + -1.0 x_4 = 0.0\n",
      "[<gurobi.Var x_0>, <gurobi.Var x_1>, <gurobi.Var x_2>, <gurobi.Var x_3>, <gurobi.Var x_4>]\n",
      "Polyhedral model build time: 0.002176523208618164\n",
      "Feasible solution found with objective 25.0\n",
      "first vertex: [0.0, 5.0, 0.0, 0.0, 5.0]\n",
      "second vertex: [5.0, 0.0, 0.0, 5.0, 0.0]\n",
      "init edge: [ 0.25 -0.25  0.    0.25 -0.25]\n"
     ]
    },
    {
     "ename": "IndexError",
     "evalue": "index 5 is out of bounds for axis 0 with size 5",
     "output_type": "error",
     "traceback": [
      "\u001b[1;31m---------------------------------------------------------------------------\u001b[0m",
      "\u001b[1;31mIndexError\u001b[0m                                Traceback (most recent call last)",
      "Cell \u001b[1;32mIn[15], line 60\u001b[0m\n\u001b[0;32m     56\u001b[0m \u001b[38;5;28mprint\u001b[39m(\u001b[38;5;124mf\u001b[39m\u001b[38;5;124m'\u001b[39m\u001b[38;5;124minit edge: \u001b[39m\u001b[38;5;132;01m{\u001b[39;00minit_edge\u001b[38;5;132;01m}\u001b[39;00m\u001b[38;5;124m'\u001b[39m)\n\u001b[0;32m     57\u001b[0m \u001b[38;5;66;03m########################################################\u001b[39;00m\n\u001b[0;32m     58\u001b[0m \n\u001b[0;32m     59\u001b[0m \u001b[38;5;66;03m# compute steepest-descent direction\u001b[39;00m\n\u001b[1;32m---> 60\u001b[0m descent_direction, y_pos, y_neg, steepness, num_steps, solve_time, phase_times \u001b[38;5;241m=\u001b[39m \u001b[43mpm\u001b[49m\u001b[38;5;241;43m.\u001b[39;49m\u001b[43mcompute_sd_direction\u001b[49m\u001b[43m(\u001b[49m\u001b[43medge\u001b[49m\u001b[43m \u001b[49m\u001b[38;5;241;43m=\u001b[39;49m\u001b[43m \u001b[49m\u001b[43mnp\u001b[49m\u001b[38;5;241;43m.\u001b[39;49m\u001b[43marray\u001b[49m\u001b[43m(\u001b[49m\u001b[43minit_edge\u001b[49m\u001b[43m)\u001b[49m\u001b[43m,\u001b[49m\u001b[43m \u001b[49m\u001b[43mverbose\u001b[49m\u001b[38;5;241;43m=\u001b[39;49m\u001b[43mverbose\u001b[49m\u001b[43m)\u001b[49m\n\u001b[0;32m     61\u001b[0m \u001b[38;5;28mprint\u001b[39m(descent_direction)\n\u001b[0;32m     62\u001b[0m test_dir \u001b[38;5;241m=\u001b[39m descent_direction\n",
      "File \u001b[1;32m~\\OneDrive - The University of Colorado Denver\\Documents\\GitHub\\simplex_like_alg\\polyhedral_model.py:116\u001b[0m, in \u001b[0;36mPolyhedralModel.compute_sd_direction\u001b[1;34m(self, verbose, **kwargs)\u001b[0m\n\u001b[0;32m    114\u001b[0m     i \u001b[38;5;241m=\u001b[39m \u001b[38;5;241m0\u001b[39m\n\u001b[0;32m    115\u001b[0m     \u001b[38;5;28;01mfor\u001b[39;00m var \u001b[38;5;129;01min\u001b[39;00m \u001b[38;5;28mself\u001b[39m\u001b[38;5;241m.\u001b[39mmodel\u001b[38;5;241m.\u001b[39mgetVars():\n\u001b[1;32m--> 116\u001b[0m         var\u001b[38;5;241m.\u001b[39mStart \u001b[38;5;241m=\u001b[39m \u001b[43minit_edge\u001b[49m\u001b[43m[\u001b[49m\u001b[43mi\u001b[49m\u001b[43m]\u001b[49m\n\u001b[0;32m    117\u001b[0m         i\u001b[38;5;241m+\u001b[39m\u001b[38;5;241m=\u001b[39m\u001b[38;5;241m1\u001b[39m\n\u001b[0;32m    120\u001b[0m \u001b[38;5;66;03m# for i in range(len(self.x)):\u001b[39;00m\n\u001b[0;32m    121\u001b[0m \u001b[38;5;66;03m#     print(f'before set solution: {self.x[i].Start}')\u001b[39;00m\n\u001b[0;32m    122\u001b[0m \n\u001b[1;32m   (...)\u001b[0m\n\u001b[0;32m    170\u001b[0m \u001b[38;5;66;03m#     self.set_method(self.method)              \u001b[39;00m\n\u001b[0;32m    171\u001b[0m \u001b[38;5;66;03m#     self.model.update()\u001b[39;00m\n",
      "\u001b[1;31mIndexError\u001b[0m: index 5 is out of bounds for axis 0 with size 5"
     ]
    }
   ],
   "source": [
    "if c is not None:\n",
    "    P.set_objective(c)\n",
    " \n",
    "t0 = time.time()\n",
    "x_current = x\n",
    "if save_first_steps:\n",
    "    np.save('solutions/{}_0.npy'.format(problem_name), x_current)      \n",
    "active_inds = P.get_active_constraints(x_current)\n",
    "init_inds = active_inds\n",
    "# print(active_inds)\n",
    "    \n",
    "pm = P.build_polyhedral_model(active_inds=active_inds, method=method)\n",
    "print(pm.x)\n",
    "\n",
    "if first_warm_start is not None:\n",
    "    print('Using custom warm start')\n",
    "    pm.set_solution(first_warm_start)\n",
    "t1 = time.time()\n",
    "build_time = t1 - t0\n",
    "print('Polyhedral model build time: {}'.format(build_time))\n",
    "    \n",
    "sub_times = {'sd': [], 'step': [], 'solve': [], 'phase_times': []}    \n",
    "descent_circuits = []\n",
    "obj_values = []\n",
    "step_sizes = []\n",
    "iter_times = []\n",
    "simplex_iters = []\n",
    "iteration = 0\n",
    "obj_value = P.c.dot(x_current)\n",
    "obj_values.append(obj_value)\n",
    "t2 = time.time()\n",
    "iter_times.append(t2 - t1)\n",
    "\n",
    "####get edge for initial circuit direction here#########\n",
    "x_feasible_2= P.second_vert(x_current, verbose=False)\n",
    "# print(x_feasible_2)\n",
    "edge = np.array(x_feasible_2) - np.array(x_current)\n",
    "# print(edge.shape)\n",
    "# init_edge_normed = np.array(P.get_normalized_circuit(np.array(x_feasible_2) - np.array(x_current)))\n",
    "# print(init_edge_normed)\n",
    "norm = np.linalg.norm(np.array(edge),1)\n",
    "# alpha, active_inds = P.get_max_step_size(x_current, init_edge_normed, active_inds=active_inds, y_pos=None)\n",
    "# print(alpha)\n",
    "if norm != 0:\n",
    "    init_edge = edge/(norm)\n",
    "else:\n",
    "    init_edge = edge\n",
    "# print(init_edge.shape)\n",
    "# init_edge = np.array(x_feasible_2) - np.array(x_current)\n",
    "# norm = np.linalg.norm(np.array(x_feasible_2) - np.array(x_current))\n",
    "# init_edge = (np.array(x_feasible_2) - np.array(x_current))/norm\n",
    "# init_edge = np.array(x_feasible_2) - np.array(x_current)\n",
    "print(f'first vertex: {x_feasible}')\n",
    "print(f'second vertex: {x_feasible_2}')\n",
    "# print(f'edge: {np.array(x_feasible_2) - np.array(x_current)}')\n",
    "print(f'init edge: {init_edge}')\n",
    "########################################################\n",
    "\n",
    "# compute steepest-descent direction\n",
    "descent_direction, y_pos, y_neg, steepness, num_steps, solve_time, phase_times = pm.compute_sd_direction(edge = np.array(init_edge), verbose=verbose)\n",
    "print(descent_direction)\n",
    "test_dir = descent_direction\n",
    "simplex_iters.append(num_steps)\n",
    "sub_times['solve'].append(solve_time)\n",
    "sub_times['phase_times'].append(phase_times)\n",
    "\n",
    "t3 = time.time()\n",
    "sub_times['sd'].append(t3 - t2)\n",
    "    \n",
    "while abs(steepness) > EPS:\n",
    "        \n",
    "    t3 = time.time()\n",
    "    if reset:\n",
    "        pm.reset()\n",
    "        \n",
    "    # take maximal step\n",
    "    x_current, alpha, active_inds = P.take_maximal_step(descent_direction, y_pos, y_neg)  \n",
    "        \n",
    "    if iteration % 50 == 0 or iteration == 1:\n",
    "        print('\\nIteration {}'.format(iteration))\n",
    "        print('Objective: {}'.format(obj_value))\n",
    "        print('Steepness: {}'.format(steepness))\n",
    "        print('Step length: {}'.format(alpha))\n",
    "        \n",
    "    t4 = time.time()\n",
    "    obj_value = P.c.dot(x_current)\n",
    "    obj_values.append(obj_value)\n",
    "    iter_times.append(t4 - t1)\n",
    "    sub_times['step'].append(t4 - t3) \n",
    "    descent_circuits.append(descent_direction)\n",
    "    step_sizes.append(alpha)     \n",
    "                \n",
    "    if math.isinf(alpha):\n",
    "        # problem is unbounded\n",
    "        result(status=1, circuits=descent_circuits, steps=step_sizes)\n",
    "        \n",
    "    # compute steepest-descent direction\n",
    "    pm.set_active_inds(active_inds)\n",
    "    descent_direction, y_pos, y_neg, steepness, num_steps, solve_time, phase_times = pm.compute_sd_direction(\n",
    "                                                                                                verbose=verbose)\n",
    "        \n",
    "    t5 = time.time()\n",
    "    sub_times['sd'].append(t5 - t4)\n",
    "    sub_times['solve'].append(solve_time)\n",
    "    sub_times['phase_times'].append(phase_times)\n",
    "    simplex_iters.append(num_steps)\n",
    "        \n",
    "    iteration += 1\n",
    "    current_time = t5 - t1\n",
    "    if current_time > max_time:\n",
    "        result(status=2)\n",
    "    if iteration <= save_first_steps:\n",
    "        np.save('solutions/{}_{}.npy'.format(problem_name, iteration), x_current)\n",
    "\n",
    "t6 = time.time()\n",
    "total_time = t6 - t1   \n",
    "print('Total time for steepest-descent scheme: {}'.format(total_time))"
   ]
  },
  {
   "cell_type": "code",
   "execution_count": null,
   "id": "d7b66ce7-02b5-4b5f-909f-137a412e421d",
   "metadata": {},
   "outputs": [],
   "source": [
    "second_inds = P.get_active_constraints(x_feasible_2)\n",
    "print(len(np.intersect1d(init_inds, second_inds)))"
   ]
  },
  {
   "cell_type": "code",
   "execution_count": null,
   "id": "373661ad-ffc4-47c1-ac6a-f077af7f400d",
   "metadata": {},
   "outputs": [],
   "source": [
    "pm.x"
   ]
  },
  {
   "cell_type": "code",
   "execution_count": null,
   "id": "3faca77a-7323-42ee-b3ba-ed11968fb750",
   "metadata": {},
   "outputs": [],
   "source": [
    "# Bx= np.dot(B, np.array(x_feasible))\n",
    "Bx_edge= np.dot(B,np.array(init_edge))\n",
    "Ax= np.dot(A,np.array(init_edge))\n",
    "print(Ax)\n",
    "print(Bx_edge)"
   ]
  },
  {
   "cell_type": "code",
   "execution_count": null,
   "id": "b00c6901-edcf-40a5-a60f-6e0ffc9c85e4",
   "metadata": {},
   "outputs": [],
   "source": [
    "print(A)\n",
    "print(B)\n",
    "print(init_edge)"
   ]
  },
  {
   "cell_type": "code",
   "execution_count": null,
   "id": "92530c20-5470-4f80-99d5-0e415561665a",
   "metadata": {},
   "outputs": [],
   "source": [
    "x_new = x_current"
   ]
  },
  {
   "cell_type": "code",
   "execution_count": null,
   "id": "1fc80e71-e91b-4050-a847-37fac8b0c502",
   "metadata": {},
   "outputs": [],
   "source": [
    "x_orig == x_new"
   ]
  },
  {
   "cell_type": "code",
   "execution_count": null,
   "id": "698f7f22-d5ae-4885-bb46-396133e961af",
   "metadata": {},
   "outputs": [],
   "source": [
    "diff = x_orig-x_new\n",
    "print(diff)"
   ]
  },
  {
   "cell_type": "code",
   "execution_count": null,
   "id": "02351c6e-65d2-4061-a510-ccecaff518b6",
   "metadata": {},
   "outputs": [],
   "source": [
    "obj_values[-1]"
   ]
  }
 ],
 "metadata": {
  "kernelspec": {
   "display_name": "Python 3 (ipykernel)",
   "language": "python",
   "name": "python3"
  },
  "language_info": {
   "codemirror_mode": {
    "name": "ipython",
    "version": 3
   },
   "file_extension": ".py",
   "mimetype": "text/x-python",
   "name": "python",
   "nbconvert_exporter": "python",
   "pygments_lexer": "ipython3",
   "version": "3.11.5"
  }
 },
 "nbformat": 4,
 "nbformat_minor": 5
}
