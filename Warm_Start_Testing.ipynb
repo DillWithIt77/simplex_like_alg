{
 "cells": [
  {
   "cell_type": "markdown",
   "id": "11503de9-e60e-4b8a-a75e-295a56861d04",
   "metadata": {},
   "source": [
    "# Warm Start Testing"
   ]
  },
  {
   "cell_type": "code",
   "execution_count": 1,
   "id": "ea5d230e-c1a9-48b2-b338-5e1d46ab7894",
   "metadata": {},
   "outputs": [],
   "source": [
    "import numpy as np\n",
    "import gurobipy as gp\n",
    "import math\n",
    "import sympy\n",
    "import contextlib\n",
    "import time\n",
    "import os\n",
    "from utils import result, METHODS, INF, EPS\n",
    "from mps_reader_preprocessor import read_mps_preprocess\n",
    "from polyhedral_model import PolyhedralModel\n",
    "from polyhedron import Polyhedron"
   ]
  },
  {
   "cell_type": "markdown",
   "id": "5edb1ae9-ede6-4406-8f52-17a07cc4fc21",
   "metadata": {},
   "source": [
    "## Read in Polyhedron P"
   ]
  },
  {
   "cell_type": "code",
   "execution_count": 2,
   "id": "20c8625a-150c-419c-a17d-82498ade3983",
   "metadata": {},
   "outputs": [],
   "source": [
    "# mps_fn='C:\\Users\\DillW\\OneDrive - The University of Colorado Denver\\Documents\\GitHub\\simplex_like_alg\\netlib_lp_subset\\kb2'\n",
    "problem_dir = 'netlib_lp_subset'\n",
    "problem = 'adlittle'\n",
    "mps_fn=os.path.join(problem_dir, problem)\n",
    "results_dir='results'\n",
    "max_time=300\n",
    "sd_method='dual_simplex'\n",
    "reset=False,\n",
    "partition_polytope=False\n",
    "n=0\n",
    "k=0\n",
    "spindle=False\n",
    "spindle_dim=0\n",
    "n_cone_facets=0\n",
    "n_parallel_facets=0"
   ]
  },
  {
   "cell_type": "markdown",
   "id": "c19da83e-63fb-4e94-acd0-b580b1b3bb6a",
   "metadata": {},
   "source": [
    "## Perform SDCA"
   ]
  },
  {
   "cell_type": "markdown",
   "id": "bb5a96d0-0a0c-4174-9feb-8149962cac85",
   "metadata": {},
   "source": [
    "### Original Code"
   ]
  },
  {
   "cell_type": "code",
   "execution_count": 3,
   "id": "7bc49c8c-72d7-43c8-a8c1-3cfa73e49880",
   "metadata": {},
   "outputs": [
    {
     "name": "stdout",
     "output_type": "stream",
     "text": [
      "Reading netlib_lp_subset\\adlittle...\n",
      "Building polyhedron...\n",
      "Problem size: n = 97,  m_B = 138,  m_A = 15\n"
     ]
    }
   ],
   "source": [
    "### Build Initial Polyhedron from file\n",
    "print(f'Reading {mps_fn}...')\n",
    "c, B, d, A, b = read_mps_preprocess(mps_fn)\n",
    "print('Building polyhedron...')\n",
    "P = Polyhedron(B, d, A, b, c)"
   ]
  },
  {
   "cell_type": "code",
   "execution_count": 4,
   "id": "036cc460-23bc-4f03-8891-d89e4a9a5df0",
   "metadata": {},
   "outputs": [
    {
     "name": "stdout",
     "output_type": "stream",
     "text": [
      "Finding feasible solution...\n",
      "Set parameter Username\n",
      "Academic license - for non-commercial use only - expires 2025-04-01\n"
     ]
    }
   ],
   "source": [
    "print('Finding feasible solution...')\n",
    "x_feasible = P.find_feasible_solution(verbose=False)"
   ]
  },
  {
   "cell_type": "code",
   "execution_count": 5,
   "id": "f7a8c2f2-4186-4ef4-86a7-8c0c4840a36e",
   "metadata": {},
   "outputs": [],
   "source": [
    "x = x_feasible\n",
    "c=None\n",
    "verbose=False\n",
    "method='dual_simplex'\n",
    "reset=False\n",
    "max_time=300\n",
    "first_warm_start=None\n",
    "save_first_steps=0\n",
    "problem_name=''"
   ]
  },
  {
   "cell_type": "code",
   "execution_count": 6,
   "id": "f4b93c76-d80b-4801-9948-1bce34154759",
   "metadata": {},
   "outputs": [
    {
     "name": "stdout",
     "output_type": "stream",
     "text": [
      "Building polyhedral model. Solve method: dual_simplex\n",
      "Set parameter Method to value 1\n",
      "Polyhedral model built!\n",
      "Polyhedral model build time: 0.0075070858001708984\n",
      "\n",
      "Iteration 0\n",
      "Objective: 671734.1100278501\n",
      "Steepness: -1093.3333333333335\n",
      "Step length: 1.492387497139124\n",
      "\n",
      "Iteration 1\n",
      "Objective: 670102.4330309781\n",
      "Steepness: -608.695652173913\n",
      "Step length: 14.047128014198497\n",
      "\n",
      "Iteration 50\n",
      "Objective: 225785.31769628637\n",
      "Steepness: -1.1566308634677096\n",
      "Step length: 10.693037152657151\n",
      "Total time for steepest-descent scheme: 0.05910682678222656\n"
     ]
    }
   ],
   "source": [
    "if c is not None:\n",
    "    P.set_objective(c)\n",
    "\n",
    "t0 = time.time()\n",
    "x_current = x\n",
    "if save_first_steps:\n",
    "    np.save('solutions/{}_0.npy'.format(problem_name), x_current)      \n",
    "active_inds = P.get_active_constraints(x_current)\n",
    "    \n",
    "pm = P.build_polyhedral_model(active_inds=active_inds, method=method)\n",
    "\n",
    "if first_warm_start is not None:\n",
    "    print('Using custom warm start')\n",
    "    pm.set_solution(first_warm_start)\n",
    "t1 = time.time()\n",
    "build_time = t1 - t0\n",
    "print('Polyhedral model build time: {}'.format(build_time))\n",
    "    \n",
    "sub_times = {'sd': [], 'step': [], 'solve': [], 'phase_times': []}    \n",
    "descent_circuits = []\n",
    "obj_values = []\n",
    "step_sizes = []\n",
    "iter_times = []\n",
    "simplex_iters = []\n",
    "iteration = 0\n",
    "obj_value = P.c.dot(x_current)\n",
    "obj_values.append(obj_value)\n",
    "t2 = time.time()\n",
    "iter_times.append(t2 - t1)\n",
    "\n",
    "\n",
    "# compute steepest-descent direction\n",
    "descent_direction, y_pos, y_neg, steepness, num_steps, solve_time, phase_times = pm.compute_sd_direction(verbose=verbose)\n",
    "# print(descent_direction)\n",
    "# print(y_pos)\n",
    "# print(y_neg)\n",
    "simplex_iters.append(num_steps)\n",
    "sub_times['solve'].append(solve_time)\n",
    "sub_times['phase_times'].append(phase_times)\n",
    "    \n",
    "t3 = time.time()\n",
    "sub_times['sd'].append(t3 - t2)\n",
    "    \n",
    "while abs(steepness) > EPS:\n",
    "        \n",
    "    t3 = time.time()\n",
    "    if reset:\n",
    "        pm.reset()\n",
    "        \n",
    "    # take maximal step\n",
    "    x_current, alpha, active_inds = P.take_maximal_step(descent_direction, y_pos, y_neg)  \n",
    "        \n",
    "    if iteration % 50 == 0 or iteration == 1:\n",
    "        print('\\nIteration {}'.format(iteration))\n",
    "        print('Objective: {}'.format(obj_value))\n",
    "        print('Steepness: {}'.format(steepness))\n",
    "        print('Step length: {}'.format(alpha))\n",
    "        \n",
    "    t4 = time.time()\n",
    "    obj_value = P.c.dot(x_current)\n",
    "    obj_values.append(obj_value)\n",
    "    iter_times.append(t4 - t1)\n",
    "    sub_times['step'].append(t4 - t3) \n",
    "    descent_circuits.append(descent_direction)\n",
    "    step_sizes.append(alpha)     \n",
    "                \n",
    "    if math.isinf(alpha):\n",
    "        # problem is unbounded\n",
    "        result(status=1, circuits=descent_circuits, steps=step_sizes)\n",
    "        \n",
    "    # compute steepest-descent direction\n",
    "    pm.set_active_inds(active_inds)\n",
    "    descent_direction, y_pos, y_neg, steepness, num_steps, solve_time, phase_times = pm.compute_sd_direction(\n",
    "                                                                                                verbose=verbose)\n",
    "        \n",
    "    t5 = time.time()\n",
    "    sub_times['sd'].append(t5 - t4)\n",
    "    sub_times['solve'].append(solve_time)\n",
    "    sub_times['phase_times'].append(phase_times)\n",
    "    simplex_iters.append(num_steps)\n",
    "        \n",
    "    iteration += 1\n",
    "    current_time = t5 - t1\n",
    "    if current_time > max_time:\n",
    "        result(status=2)\n",
    "    if iteration <= save_first_steps:\n",
    "        np.save('solutions/{}_{}.npy'.format(problem_name, iteration), x_current)\n",
    "\n",
    "t6 = time.time()\n",
    "total_time = t6 - t1   \n",
    "print('Total time for steepest-descent scheme: {}'.format(total_time))"
   ]
  },
  {
   "cell_type": "code",
   "execution_count": 7,
   "id": "0fd90c27-bfc3-4439-a0fd-5bd95df1c62d",
   "metadata": {},
   "outputs": [],
   "source": [
    "x_orig = x_current"
   ]
  },
  {
   "cell_type": "code",
   "execution_count": 8,
   "id": "d9a1a9cc-3b95-49c0-8567-275c1b89dea7",
   "metadata": {},
   "outputs": [
    {
     "data": {
      "text/plain": [
       "225494.96316238033"
      ]
     },
     "execution_count": 8,
     "metadata": {},
     "output_type": "execute_result"
    }
   ],
   "source": [
    "obj_values[-1]"
   ]
  },
  {
   "cell_type": "markdown",
   "id": "2f4bdfab-e2b3-4b1b-a030-70db5c768033",
   "metadata": {},
   "source": [
    "### Updated Code"
   ]
  },
  {
   "cell_type": "code",
   "execution_count": 9,
   "id": "19df5092-607e-42ff-82ab-383b4d6be24f",
   "metadata": {},
   "outputs": [
    {
     "name": "stdout",
     "output_type": "stream",
     "text": [
      "Reading netlib_lp_subset\\adlittle...\n",
      "Building polyhedron...\n",
      "Problem size: n = 97,  m_B = 138,  m_A = 15\n"
     ]
    }
   ],
   "source": [
    "### Build Initial Polyhedron from file\n",
    "print(f'Reading {mps_fn}...')\n",
    "c, B, d, A, b = read_mps_preprocess(mps_fn)\n",
    "print('Building polyhedron...')\n",
    "P = Polyhedron(B, d, A, b, c)"
   ]
  },
  {
   "cell_type": "code",
   "execution_count": 10,
   "id": "e03a3775-9c70-413b-ad68-7b9c08b3011b",
   "metadata": {},
   "outputs": [
    {
     "name": "stdout",
     "output_type": "stream",
     "text": [
      "Finding feasible solution...\n"
     ]
    }
   ],
   "source": [
    "print('Finding feasible solution...')\n",
    "x_feasible = P.find_feasible_solution(verbose=False)"
   ]
  },
  {
   "cell_type": "code",
   "execution_count": 11,
   "id": "c4266974-53a6-44c0-a0b3-5a6b47843075",
   "metadata": {},
   "outputs": [],
   "source": [
    "x = x_feasible\n",
    "c=None\n",
    "verbose=False\n",
    "method='dual_simplex'\n",
    "reset=False\n",
    "max_time=300\n",
    "first_warm_start=None\n",
    "save_first_steps=0\n",
    "problem_name=''"
   ]
  },
  {
   "cell_type": "code",
   "execution_count": 12,
   "id": "d53c7d94-746c-4718-9a2c-7bc403616093",
   "metadata": {},
   "outputs": [
    {
     "name": "stdout",
     "output_type": "stream",
     "text": [
      "Building polyhedral model. Solve method: dual_simplex\n",
      "Set parameter Method to value 1\n",
      "Polyhedral model built!\n",
      "Polyhedral model build time: 0.008525609970092773\n",
      "Feasible solution found with objective 671734.1100278501\n",
      "\n",
      "Iteration 0\n",
      "Objective: 671734.1100278501\n",
      "Steepness: -1093.3333333333335\n",
      "Step length: 1.492387497139124\n",
      "\n",
      "Iteration 1\n",
      "Objective: 670102.4330309781\n",
      "Steepness: -608.695652173913\n",
      "Step length: 14.047128014198497\n",
      "\n",
      "Iteration 50\n",
      "Objective: 225785.31769628637\n",
      "Steepness: -1.1566308634677096\n",
      "Step length: 10.693037152657151\n",
      "Total time for steepest-descent scheme: 0.056745052337646484\n"
     ]
    }
   ],
   "source": [
    "if c is not None:\n",
    "    P.set_objective(c)\n",
    " \n",
    "t0 = time.time()\n",
    "x_current = x\n",
    "if save_first_steps:\n",
    "    np.save('solutions/{}_0.npy'.format(problem_name), x_current)      \n",
    "active_inds = P.get_active_constraints(x_current)\n",
    "    \n",
    "pm = P.build_polyhedral_model(active_inds=active_inds, method=method)\n",
    "\n",
    "if first_warm_start is not None:\n",
    "    print('Using custom warm start')\n",
    "    pm.set_solution(first_warm_start)\n",
    "t1 = time.time()\n",
    "build_time = t1 - t0\n",
    "print('Polyhedral model build time: {}'.format(build_time))\n",
    "    \n",
    "sub_times = {'sd': [], 'step': [], 'solve': [], 'phase_times': []}    \n",
    "descent_circuits = []\n",
    "obj_values = []\n",
    "step_sizes = []\n",
    "iter_times = []\n",
    "simplex_iters = []\n",
    "iteration = 0\n",
    "obj_value = P.c.dot(x_current)\n",
    "obj_values.append(obj_value)\n",
    "t2 = time.time()\n",
    "iter_times.append(t2 - t1)\n",
    "\n",
    "\n",
    "####get edge for initial circuit direction here#########\n",
    "x_feasible_2= P.second_vert(x_current, obj_value, verbose=False, record_objs=True)\n",
    "init_edge = np.array(x_feasible_2) - np.array(x_current)\n",
    "########################################################\n",
    "\n",
    "# compute steepest-descent direction\n",
    "descent_direction, y_pos, y_neg, steepness, num_steps, solve_time, phase_times = pm.compute_sd_direction(edge = init_edge, verbose=verbose)\n",
    "simplex_iters.append(num_steps)\n",
    "sub_times['solve'].append(solve_time)\n",
    "sub_times['phase_times'].append(phase_times)\n",
    "\n",
    "\n",
    "    \n",
    "t3 = time.time()\n",
    "sub_times['sd'].append(t3 - t2)\n",
    "    \n",
    "while abs(steepness) > EPS:\n",
    "        \n",
    "    t3 = time.time()\n",
    "    if reset:\n",
    "        pm.reset()\n",
    "        \n",
    "    # take maximal step\n",
    "    x_current, alpha, active_inds = P.take_maximal_step(descent_direction, y_pos, y_neg)  \n",
    "        \n",
    "    if iteration % 50 == 0 or iteration == 1:\n",
    "        print('\\nIteration {}'.format(iteration))\n",
    "        print('Objective: {}'.format(obj_value))\n",
    "        print('Steepness: {}'.format(steepness))\n",
    "        print('Step length: {}'.format(alpha))\n",
    "        \n",
    "    t4 = time.time()\n",
    "    obj_value = P.c.dot(x_current)\n",
    "    obj_values.append(obj_value)\n",
    "    iter_times.append(t4 - t1)\n",
    "    sub_times['step'].append(t4 - t3) \n",
    "    descent_circuits.append(descent_direction)\n",
    "    step_sizes.append(alpha)     \n",
    "                \n",
    "    if math.isinf(alpha):\n",
    "        # problem is unbounded\n",
    "        result(status=1, circuits=descent_circuits, steps=step_sizes)\n",
    "        \n",
    "    # compute steepest-descent direction\n",
    "    pm.set_active_inds(active_inds)\n",
    "    descent_direction, y_pos, y_neg, steepness, num_steps, solve_time, phase_times = pm.compute_sd_direction(\n",
    "                                                                                                verbose=verbose)\n",
    "        \n",
    "    t5 = time.time()\n",
    "    sub_times['sd'].append(t5 - t4)\n",
    "    sub_times['solve'].append(solve_time)\n",
    "    sub_times['phase_times'].append(phase_times)\n",
    "    simplex_iters.append(num_steps)\n",
    "        \n",
    "    iteration += 1\n",
    "    current_time = t5 - t1\n",
    "    if current_time > max_time:\n",
    "        result(status=2)\n",
    "    if iteration <= save_first_steps:\n",
    "        np.save('solutions/{}_{}.npy'.format(problem_name, iteration), x_current)\n",
    "\n",
    "t6 = time.time()\n",
    "total_time = t6 - t1   \n",
    "print('Total time for steepest-descent scheme: {}'.format(total_time))"
   ]
  },
  {
   "cell_type": "code",
   "execution_count": 13,
   "id": "92530c20-5470-4f80-99d5-0e415561665a",
   "metadata": {},
   "outputs": [],
   "source": [
    "x_new = x_current"
   ]
  },
  {
   "cell_type": "code",
   "execution_count": 14,
   "id": "1fc80e71-e91b-4050-a847-37fac8b0c502",
   "metadata": {},
   "outputs": [
    {
     "data": {
      "text/plain": [
       "array([ True,  True,  True,  True,  True,  True,  True,  True,  True,\n",
       "        True,  True,  True,  True,  True,  True,  True,  True,  True,\n",
       "        True,  True,  True,  True,  True,  True,  True,  True,  True,\n",
       "        True,  True,  True,  True,  True,  True,  True,  True,  True,\n",
       "        True,  True,  True,  True,  True,  True,  True,  True,  True,\n",
       "        True,  True,  True,  True,  True,  True,  True,  True,  True,\n",
       "        True,  True,  True,  True,  True,  True,  True,  True,  True,\n",
       "        True,  True,  True,  True,  True,  True,  True,  True,  True,\n",
       "        True,  True,  True,  True,  True,  True,  True,  True,  True,\n",
       "        True,  True,  True,  True,  True,  True,  True,  True,  True,\n",
       "        True,  True,  True,  True,  True,  True,  True])"
      ]
     },
     "execution_count": 14,
     "metadata": {},
     "output_type": "execute_result"
    }
   ],
   "source": [
    "x_orig == x_new"
   ]
  },
  {
   "cell_type": "code",
   "execution_count": 15,
   "id": "698f7f22-d5ae-4885-bb46-396133e961af",
   "metadata": {},
   "outputs": [
    {
     "name": "stdout",
     "output_type": "stream",
     "text": [
      "[0. 0. 0. 0. 0. 0. 0. 0. 0. 0. 0. 0. 0. 0. 0. 0. 0. 0. 0. 0. 0. 0. 0. 0.\n",
      " 0. 0. 0. 0. 0. 0. 0. 0. 0. 0. 0. 0. 0. 0. 0. 0. 0. 0. 0. 0. 0. 0. 0. 0.\n",
      " 0. 0. 0. 0. 0. 0. 0. 0. 0. 0. 0. 0. 0. 0. 0. 0. 0. 0. 0. 0. 0. 0. 0. 0.\n",
      " 0. 0. 0. 0. 0. 0. 0. 0. 0. 0. 0. 0. 0. 0. 0. 0. 0. 0. 0. 0. 0. 0. 0. 0.\n",
      " 0.]\n"
     ]
    }
   ],
   "source": [
    "diff = x_orig-x_new\n",
    "print(diff)"
   ]
  },
  {
   "cell_type": "code",
   "execution_count": 16,
   "id": "02351c6e-65d2-4061-a510-ccecaff518b6",
   "metadata": {},
   "outputs": [
    {
     "data": {
      "text/plain": [
       "225494.96316238033"
      ]
     },
     "execution_count": 16,
     "metadata": {},
     "output_type": "execute_result"
    }
   ],
   "source": [
    "obj_values[-1]"
   ]
  }
 ],
 "metadata": {
  "kernelspec": {
   "display_name": "Python 3 (ipykernel)",
   "language": "python",
   "name": "python3"
  },
  "language_info": {
   "codemirror_mode": {
    "name": "ipython",
    "version": 3
   },
   "file_extension": ".py",
   "mimetype": "text/x-python",
   "name": "python",
   "nbconvert_exporter": "python",
   "pygments_lexer": "ipython3",
   "version": "3.11.5"
  }
 },
 "nbformat": 4,
 "nbformat_minor": 5
}
