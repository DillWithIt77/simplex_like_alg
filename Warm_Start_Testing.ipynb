{
 "cells": [
  {
   "cell_type": "markdown",
   "id": "11503de9-e60e-4b8a-a75e-295a56861d04",
   "metadata": {},
   "source": [
    "# Warm Start Testing"
   ]
  },
  {
   "cell_type": "code",
   "execution_count": 1,
   "id": "ea5d230e-c1a9-48b2-b338-5e1d46ab7894",
   "metadata": {},
   "outputs": [],
   "source": [
    "import numpy as np\n",
    "import gurobipy as gp\n",
    "import math\n",
    "import sympy\n",
    "import contextlib\n",
    "import time\n",
    "import os\n",
    "from utils import result, METHODS, INF, EPS\n",
    "from mps_reader_preprocessor import read_mps_preprocess\n",
    "from polyhedral_model import PolyhedralModel\n",
    "from polyhedron import Polyhedron"
   ]
  },
  {
   "cell_type": "markdown",
   "id": "5edb1ae9-ede6-4406-8f52-17a07cc4fc21",
   "metadata": {},
   "source": [
    "## Read in Polyhedron P"
   ]
  },
  {
   "cell_type": "code",
   "execution_count": 2,
   "id": "20c8625a-150c-419c-a17d-82498ade3983",
   "metadata": {},
   "outputs": [],
   "source": [
    "# mps_fn='C:\\Users\\DillW\\OneDrive - The University of Colorado Denver\\Documents\\GitHub\\simplex_like_alg\\netlib_lp_subset\\kb2'\n",
    "problem_dir = 'netlib_lp_subset'\n",
    "problem = 'kb2'\n",
    "mps_fn=os.path.join(problem_dir, problem)\n",
    "results_dir='results'\n",
    "max_time=300\n",
    "sd_method='dual_simplex'\n",
    "reset=False,\n",
    "partition_polytope=False\n",
    "n=0\n",
    "k=0\n",
    "spindle=False\n",
    "spindle_dim=0\n",
    "n_cone_facets=0\n",
    "n_parallel_facets=0"
   ]
  },
  {
   "cell_type": "code",
   "execution_count": 3,
   "id": "7bc49c8c-72d7-43c8-a8c1-3cfa73e49880",
   "metadata": {},
   "outputs": [
    {
     "name": "stdout",
     "output_type": "stream",
     "text": [
      "Reading netlib_lp_subset\\kb2...\n",
      "Building polyhedron...\n",
      "Problem size: n = 41,  m_B = 77,  m_A = 16\n"
     ]
    }
   ],
   "source": [
    "### Build Initial Polyhedron from file\n",
    "print(f'Reading {mps_fn}...')\n",
    "c, B, d, A, b = read_mps_preprocess(mps_fn)\n",
    "print('Building polyhedron...')\n",
    "P = Polyhedron(B, d, A, b, c)"
   ]
  },
  {
   "cell_type": "markdown",
   "id": "1ec1de08-4b8d-4e1b-be3c-a61cdc07da95",
   "metadata": {},
   "source": [
    "## Get Initial Feasible Solution"
   ]
  },
  {
   "cell_type": "code",
   "execution_count": 4,
   "id": "036cc460-23bc-4f03-8891-d89e4a9a5df0",
   "metadata": {},
   "outputs": [
    {
     "name": "stdout",
     "output_type": "stream",
     "text": [
      "Finding feasible solution...\n",
      "Set parameter Username\n",
      "Academic license - for non-commercial use only - expires 2025-04-01\n"
     ]
    }
   ],
   "source": [
    "print('Finding feasible solution...')\n",
    "x_feasible = P.find_feasible_solution(verbose=False)"
   ]
  },
  {
   "cell_type": "markdown",
   "id": "c19da83e-63fb-4e94-acd0-b580b1b3bb6a",
   "metadata": {},
   "source": [
    "## Perform SDCA"
   ]
  },
  {
   "cell_type": "code",
   "execution_count": 5,
   "id": "f7a8c2f2-4186-4ef4-86a7-8c0c4840a36e",
   "metadata": {},
   "outputs": [],
   "source": [
    "x = x_feasible\n",
    "c=None\n",
    "verbose=False\n",
    "method='dual_simplex'\n",
    "reset=False\n",
    "max_time=300\n",
    "first_warm_start=None\n",
    "save_first_steps=0\n",
    "problem_name=''"
   ]
  },
  {
   "cell_type": "code",
   "execution_count": 11,
   "id": "d53c7d94-746c-4718-9a2c-7bc403616093",
   "metadata": {},
   "outputs": [
    {
     "name": "stdout",
     "output_type": "stream",
     "text": [
      "Building polyhedral model. Solve method: dual_simplex\n",
      "Set parameter Method to value 1\n",
      "Polyhedral model built!\n",
      "[-6.79665845e+01 -2.73719411e+00  0.00000000e+00 -3.35075261e+01\n",
      "  0.00000000e+00 -3.03268274e+00 -5.61166531e+00  0.00000000e+00\n",
      "  0.00000000e+00 -2.73719411e+00 -8.32876733e+00  0.00000000e+00\n",
      " -1.97103095e+01 -1.79221347e+03 -1.97789425e+03  0.00000000e+00\n",
      "  0.00000000e+00  0.00000000e+00 -1.00307229e+01  0.00000000e+00\n",
      " -2.66712327e+01  0.00000000e+00 -3.67019556e+01 -3.13817226e+03\n",
      " -3.46200998e+03 -1.15543194e+01 -9.97528589e+02 -1.06511939e+03\n",
      " -6.96731726e+00 -2.61772504e+00  0.00000000e+00 -1.96927705e+00\n",
      "  0.00000000e+00  0.00000000e+00  0.00000000e+00 -1.00000000e+01\n",
      " -8.22939035e+00  0.00000000e+00 -1.20000000e+01 -3.50000000e+01\n",
      " -6.79665845e+01]\n",
      "Using custom warm start\n",
      "(41,)\n",
      "41\n",
      "Set parameter Method to value 0\n",
      "Gurobi Optimizer version 11.0.0 build v11.0.0rc2 (win64 - Windows 11+.0 (22631.2))\n",
      "\n",
      "CPU model: AMD Ryzen 7 7730U with Radeon Graphics, instruction set [SSE2|AVX|AVX2]\n",
      "Thread count: 8 physical cores, 16 logical processors, using up to 16 threads\n",
      "\n",
      "Optimize a model with 94 rows, 195 columns and 644 nonzeros\n",
      "Model fingerprint: 0xaac72b96\n",
      "Coefficient statistics:\n",
      "  Matrix range     [2e-01, 1e+02]\n",
      "  Objective range  [9e-02, 2e+01]\n",
      "  Bounds range     [1e+00, 3e+03]\n",
      "  RHS range        [1e+00, 1e+00]\n",
      "Presolve removed 16 rows and 41 columns\n",
      "Presolve time: 0.01s\n",
      "\n",
      "Solved in 0 iterations and 0.01 seconds (0.00 work units)\n",
      "Infeasible model\n",
      "Gurobi Optimizer version 11.0.0 build v11.0.0rc2 (win64 - Windows 11+.0 (22631.2))\n",
      "\n",
      "CPU model: AMD Ryzen 7 7730U with Radeon Graphics, instruction set [SSE2|AVX|AVX2]\n",
      "Thread count: 8 physical cores, 16 logical processors, using up to 16 threads\n",
      "\n",
      "Optimize a model with 94 rows, 195 columns and 644 nonzeros\n",
      "Model fingerprint: 0xec0e1486\n",
      "Coefficient statistics:\n",
      "  Matrix range     [2e-01, 1e+02]\n",
      "  Objective range  [0e+00, 0e+00]\n",
      "  Bounds range     [1e+00, 1e+00]\n",
      "  RHS range        [1e+00, 1e+00]\n",
      "Presolve removed 40 rows and 40 columns\n",
      "Presolve time: 0.00s\n",
      "Presolved: 54 rows, 155 columns, 780 nonzeros\n",
      "\n",
      "Iteration    Objective       Primal Inf.    Dual Inf.      Time\n",
      "       0    0.0000000e+00   1.000000e+00   4.946237e+08      0s\n",
      "       6    0.0000000e+00   0.000000e+00   0.000000e+00      0s\n",
      "\n",
      "Solved in 6 iterations and 0.02 seconds (0.00 work units)\n",
      "Optimal objective  0.000000000e+00\n",
      "Set parameter Method to value 1\n",
      "Polyhedral model build time: 0.07908177375793457\n",
      "\n",
      "Iteration 0\n",
      "Objective: 0.0\n",
      "Steepness: -0.07928082686544552\n",
      "Step length: 6258.741180973604\n",
      "\n",
      "Iteration 1\n",
      "Objective: -496.1981759644023\n",
      "Steepness: -0.07772243885478054\n",
      "Step length: 2117.197522970884\n",
      "Total time for steepest-descent scheme: 0.04924321174621582\n"
     ]
    }
   ],
   "source": [
    "if c is not None:\n",
    "    P.set_objective(c)\n",
    " \n",
    "t0 = time.time()\n",
    "x_current = x\n",
    "if save_first_steps:\n",
    "    np.save('solutions/{}_0.npy'.format(problem_name), x_current)      \n",
    "active_inds = P.get_active_constraints(x_current)\n",
    "    \n",
    "pm = P.build_polyhedral_model(active_inds=active_inds, method=method)\n",
    "####get edge for initial circuit direction here#########\n",
    "x_feasible_2= P.second_vert(x, verbose=False, record_objs=True)\n",
    "init_edge = np.array(x) - np.array(x_feasible_2)\n",
    "########################################################\n",
    "\n",
    "if first_warm_start is not None:\n",
    "    print('Using custom warm start')\n",
    "    pm.set_solution(first_warm_start)\n",
    "t1 = time.time()\n",
    "build_time = t1 - t0\n",
    "print('Polyhedral model build time: {}'.format(build_time))\n",
    "    \n",
    "sub_times = {'sd': [], 'step': [], 'solve': [], 'phase_times': []}    \n",
    "descent_circuits = []\n",
    "obj_values = []\n",
    "step_sizes = []\n",
    "iter_times = []\n",
    "simplex_iters = []\n",
    "iteration = 0\n",
    "obj_value = P.c.dot(x_current)\n",
    "obj_values.append(obj_value)\n",
    "t2 = time.time()\n",
    "iter_times.append(t2 - t1)\n",
    "\n",
    "\n",
    "# compute steepest-descent direction\n",
    "descent_direction, y_pos, y_neg, steepness, num_steps, solve_time, phase_times = pm.compute_sd_direction(verbose=verbose)\n",
    "simplex_iters.append(num_steps)\n",
    "sub_times['solve'].append(solve_time)\n",
    "sub_times['phase_times'].append(phase_times)\n",
    "    \n",
    "t3 = time.time()\n",
    "sub_times['sd'].append(t3 - t2)\n",
    "    \n",
    "while abs(steepness) > EPS:\n",
    "        \n",
    "    t3 = time.time()\n",
    "    if reset:\n",
    "        pm.reset()\n",
    "        \n",
    "    # take maximal step\n",
    "    x_current, alpha, active_inds = P.take_maximal_step(descent_direction, y_pos, y_neg)  \n",
    "        \n",
    "    if iteration % 50 == 0 or iteration == 1:\n",
    "        print('\\nIteration {}'.format(iteration))\n",
    "        print('Objective: {}'.format(obj_value))\n",
    "        print('Steepness: {}'.format(steepness))\n",
    "        print('Step length: {}'.format(alpha))\n",
    "        \n",
    "    t4 = time.time()\n",
    "    obj_value = P.c.dot(x_current)\n",
    "    obj_values.append(obj_value)\n",
    "    iter_times.append(t4 - t1)\n",
    "    sub_times['step'].append(t4 - t3) \n",
    "    descent_circuits.append(descent_direction)\n",
    "    step_sizes.append(alpha)     \n",
    "                \n",
    "    if math.isinf(alpha):\n",
    "        # problem is unbounded\n",
    "        result(status=1, circuits=descent_circuits, steps=step_sizes)\n",
    "        \n",
    "    # compute steepest-descent direction\n",
    "    pm.set_active_inds(active_inds)\n",
    "    descent_direction, y_pos, y_neg, steepness, num_steps, solve_time, phase_times = pm.compute_sd_direction(\n",
    "                                                                                                verbose=verbose)\n",
    "        \n",
    "    t5 = time.time()\n",
    "    sub_times['sd'].append(t5 - t4)\n",
    "    sub_times['solve'].append(solve_time)\n",
    "    sub_times['phase_times'].append(phase_times)\n",
    "    simplex_iters.append(num_steps)\n",
    "        \n",
    "    iteration += 1\n",
    "    current_time = t5 - t1\n",
    "    if current_time > max_time:\n",
    "        result(status=2)\n",
    "    if iteration <= save_first_steps:\n",
    "        np.save('solutions/{}_{}.npy'.format(problem_name, iteration), x_current)\n",
    "\n",
    "t6 = time.time()\n",
    "total_time = t6 - t1   \n",
    "print('Total time for steepest-descent scheme: {}'.format(total_time))"
   ]
  },
  {
   "cell_type": "markdown",
   "id": "a5f77fea-8403-4fb2-a1a6-5dc44b403b25",
   "metadata": {},
   "source": [
    "## Getting Initial Feasible Direction"
   ]
  },
  {
   "cell_type": "code",
   "execution_count": 7,
   "id": "cea33414-bf13-476a-9db8-45c96d668118",
   "metadata": {},
   "outputs": [
    {
     "data": {
      "text/plain": [
       "[59.99419042276329,\n",
       " 1.9484432412522703,\n",
       " 0.0,\n",
       " 29.5771358784223,\n",
       " 0.0,\n",
       " 3.500509753312806,\n",
       " 0.3396766290896038,\n",
       " 0.0,\n",
       " 4.561669527653692,\n",
       " 1.9484432412522703,\n",
       " 7.048016071292983,\n",
       " 0.0,\n",
       " 17.398315222601354,\n",
       " 1599.4084069020323,\n",
       " 1714.8749163307657,\n",
       " 0.0,\n",
       " 0.0,\n",
       " 0.0,\n",
       " 4.444878899585171,\n",
       " 0.0,\n",
       " 27.951983928707005,\n",
       " 0.0,\n",
       " 32.39686282829218,\n",
       " 2740.17421779916,\n",
       " 3134.0318457079343,\n",
       " 10.199012371869758,\n",
       " 884.4677360014057,\n",
       " 927.8996181579719,\n",
       " 6.499490246687185,\n",
       " 0.7060705524214355,\n",
       " 0.0,\n",
       " 2.993451572761138,\n",
       " 0.0,\n",
       " 0.0,\n",
       " 0.0,\n",
       " 10.0,\n",
       " 1.0457471815110393,\n",
       " 0.0,\n",
       " 12.0,\n",
       " 35.0,\n",
       " 59.99419042276329]"
      ]
     },
     "execution_count": 7,
     "metadata": {},
     "output_type": "execute_result"
    }
   ],
   "source": [
    "x_feasible_2"
   ]
  },
  {
   "cell_type": "code",
   "execution_count": null,
   "id": "6b5c0ef8-34e2-4797-85e0-74f0781a4d59",
   "metadata": {},
   "outputs": [],
   "source": []
  },
  {
   "cell_type": "code",
   "execution_count": null,
   "id": "9ee051a7-683c-4c34-86d5-b977479d28da",
   "metadata": {},
   "outputs": [],
   "source": []
  },
  {
   "cell_type": "code",
   "execution_count": null,
   "id": "67374060-b0c1-4f7b-8f3f-038443a4d23c",
   "metadata": {},
   "outputs": [],
   "source": []
  }
 ],
 "metadata": {
  "kernelspec": {
   "display_name": "Python 3 (ipykernel)",
   "language": "python",
   "name": "python3"
  },
  "language_info": {
   "codemirror_mode": {
    "name": "ipython",
    "version": 3
   },
   "file_extension": ".py",
   "mimetype": "text/x-python",
   "name": "python",
   "nbconvert_exporter": "python",
   "pygments_lexer": "ipython3",
   "version": "3.11.5"
  }
 },
 "nbformat": 4,
 "nbformat_minor": 5
}
