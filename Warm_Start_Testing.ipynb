{
 "cells": [
  {
   "cell_type": "markdown",
   "id": "11503de9-e60e-4b8a-a75e-295a56861d04",
   "metadata": {},
   "source": [
    "# Warm Start Testing"
   ]
  },
  {
   "cell_type": "code",
   "execution_count": 2,
   "id": "ea5d230e-c1a9-48b2-b338-5e1d46ab7894",
   "metadata": {},
   "outputs": [],
   "source": [
    "import numpy as np\n",
    "import gurobipy as gp\n",
    "import math\n",
    "import sympy\n",
    "import contextlib\n",
    "import time\n",
    "import os\n",
    "from utils import result, METHODS, INF, EPS\n",
    "from mps_reader_preprocessor import read_mps_preprocess\n",
    "from polyhedral_model import PolyhedralModel\n",
    "from polyhedron import Polyhedron\n",
    "import network as net"
   ]
  },
  {
   "cell_type": "code",
   "execution_count": 3,
   "id": "41dfc1a7-d616-412b-ac62-76646604d6ad",
   "metadata": {},
   "outputs": [],
   "source": [
    "def num_aft_dec(number): \n",
    "    # Convert number to string\n",
    "    number_str = str(number)\n",
    "    \n",
    "    # Split string at the decimal point\n",
    "    if '.' in number_str:\n",
    "        # Get the part after the decimal point\n",
    "        decimal_part = number_str.split('.')[1]\n",
    "        \n",
    "        # Remove trailing zeros\n",
    "        decimal_part = decimal_part.rstrip('0')\n",
    "        \n",
    "        # Return the length of the remaining decimal part\n",
    "        return len(decimal_part)\n",
    "    else:\n",
    "        # No decimal point in the number\n",
    "        return 0\n",
    "    "
   ]
  },
  {
   "cell_type": "markdown",
   "id": "5edb1ae9-ede6-4406-8f52-17a07cc4fc21",
   "metadata": {},
   "source": [
    "## Read in Polyhedron P"
   ]
  },
  {
   "cell_type": "code",
   "execution_count": 4,
   "id": "f2e7cc94-893c-4c3a-99bc-d3ac1d13e690",
   "metadata": {},
   "outputs": [
    {
     "name": "stdout",
     "output_type": "stream",
     "text": [
      "Reading netlib_lp_subset\\shell...\n",
      "Building polyhedron...\n",
      "Problem size: n = 1775,  m_B = 1644,  m_A = 784\n",
      "Finding feasible solution...\n",
      "Set parameter Username\n",
      "Academic license - for non-commercial use only - expires 2025-04-01\n"
     ]
    }
   ],
   "source": [
    "problem_dir = 'netlib_lp_subset'\n",
    "# problem = 'kb2'\n",
    "# problem = 'maros'\n",
    "# problem = 'pilot4'\n",
    "problem = 'shell'\n",
    "# problem = 'adlittle'\n",
    "# problem = 'angela_test_prob'\n",
    "# problem = 'network_ex'\n",
    "# problem = 'gfrd-pnc'\n",
    "# problem = 'modszk1'\n",
    "# problem = 'cycle'\n",
    "# problem = 'cre-c'\n",
    "# problem = 'scsd8'\n",
    "### problems in standard form:\n",
    "# 'bandm'\n",
    "# fit1p contains upper bounds\n",
    "# grow15 contains upper bounds\n",
    "# grow 22 contains upper bounds\n",
    "# grow7 contains upper bounds\n",
    "# ken-07 contains upper bounds\n",
    "# modszk1 contains free variables\n",
    "# 'qap08'\n",
    "# 'scsd1'\n",
    "# 'scsd6'\n",
    "# 'scsd8'\n",
    "\n",
    "mps_fn=os.path.join(problem_dir, problem)\n",
    "results_dir='results'\n",
    "max_time=300\n",
    "sd_method='dual_simplex'\n",
    "reset=False,\n",
    "partition_polytope=False\n",
    "n=0\n",
    "k=0\n",
    "spindle=False\n",
    "spindle_dim=0\n",
    "n_cone_facets=0\n",
    "n_parallel_facets=0\n",
    "\n",
    "### Build Initial Polyhedron from file\n",
    "print(f'Reading {mps_fn}...')\n",
    "c, B, d, A, b = read_mps_preprocess(mps_fn)\n",
    "print('Building polyhedron...')\n",
    "P = Polyhedron(B, d, A, b, c)\n",
    "\n",
    "print('Finding feasible solution...')\n",
    "x_feasible, vbasis, cbasis = P.find_feasible_solution(verbose=False)"
   ]
  },
  {
   "cell_type": "code",
   "execution_count": 5,
   "id": "c3c4e908-3e4a-4292-a563-32bbf2b62ce3",
   "metadata": {},
   "outputs": [
    {
     "name": "stdout",
     "output_type": "stream",
     "text": [
      "equality constraints satisfied by feaisble soln: True\n",
      "inequality constraints satisfied by feaisble soln: True\n"
     ]
    }
   ],
   "source": [
    "eq_cont_sat = np.all(np.isclose(np.dot(A, np.array(x_feasible)),b))\n",
    "ineq_cont_sat = np.all(np.dot(B, np.array(x_feasible)) <=d)\n",
    "print(f'equality constraints satisfied by feaisble soln: {eq_cont_sat}')\n",
    "print(f'inequality constraints satisfied by feaisble soln: {ineq_cont_sat}')"
   ]
  },
  {
   "cell_type": "code",
   "execution_count": 6,
   "id": "c4266974-53a6-44c0-a0b3-5a6b47843075",
   "metadata": {},
   "outputs": [],
   "source": [
    "x = x_feasible\n",
    "c=None\n",
    "verbose=False\n",
    "method='dual_simplex'\n",
    "reset=False\n",
    "max_time=300\n",
    "first_warm_start=None\n",
    "save_first_steps=0\n",
    "problem_name=''"
   ]
  },
  {
   "cell_type": "code",
   "execution_count": 9,
   "id": "d53c7d94-746c-4718-9a2c-7bc403616093",
   "metadata": {},
   "outputs": [
    {
     "name": "stdout",
     "output_type": "stream",
     "text": [
      "Building polyhedral model. Solve method: dual_simplex\n",
      "Set parameter Method to value 1\n",
      "Polyhedral model built!\n",
      "Polyhedral model build time: 2.9860870838165283\n",
      "other warm start\n",
      "Model is feasible or optimization was successful.\n",
      "\n",
      "Iteration 0\n",
      "Objective: 1268012500.0\n",
      "Steepness: -173.0\n",
      "Step length: 44315.00000000001\n",
      "\n",
      "Iteration 1\n",
      "Objective: 1260346005.0\n",
      "Steepness: -159.0\n",
      "Step length: 518.9999999999999\n",
      "\n",
      "Iteration 50\n",
      "Objective: 1233330348.0\n",
      "Steepness: -24.833333333333364\n",
      "Step length: 2760.000000000043\n",
      "\n",
      "Iteration 100\n",
      "Objective: 1213984581.0\n",
      "Steepness: -9.200000000000001\n",
      "Step length: 5055.0\n",
      "\n",
      "Iteration 150\n",
      "Objective: 1208983019.0\n",
      "Steepness: -1.8888888888888857\n",
      "Step length: 198.00000000000077\n",
      "Total time for steepest-descent scheme: 5.167969703674316\n"
     ]
    }
   ],
   "source": [
    "if c is not None:\n",
    "    P.set_objective(c)\n",
    " \n",
    "t0 = time.time()\n",
    "x_current = x\n",
    "if save_first_steps:\n",
    "    np.save('solutions/{}_0.npy'.format(problem_name), x_current)      \n",
    "active_inds = P.get_active_constraints(x_current)\n",
    "init_inds = active_inds\n",
    "    \n",
    "pm = P.build_polyhedral_model(active_inds=active_inds, method=method)\n",
    "\n",
    "if first_warm_start is not None:\n",
    "    print('Using custom warm start')\n",
    "    pm.set_solution(first_warm_start)\n",
    "t1 = time.time()\n",
    "build_time = t1 - t0\n",
    "print('Polyhedral model build time: {}'.format(build_time))\n",
    "    \n",
    "sub_times = {'sd': [], 'step': [], 'solve': [], 'phase_times': []}    \n",
    "descent_circuits = []\n",
    "obj_values = []\n",
    "step_sizes = []\n",
    "iter_times = []\n",
    "simplex_iters = []\n",
    "iteration = 0\n",
    "obj_value = P.c.dot(x_current)\n",
    "num_dec_places = Polyhedron.num_aft_dec(obj_value)\n",
    "obj_values.append(obj_value)\n",
    "t2 = time.time()\n",
    "iter_times.append(t2 - t1)\n",
    "\n",
    "####get edge for initial circuit direction here#########\n",
    "x_feasible_2= P.second_vert(x_current, obj_value, num_dec_places, verbose=False, vbasis = vbasis, cbasis = cbasis)\n",
    "edge = np.array(x_feasible_2) - np.array(x_current)\n",
    "B_edge = np.dot(B,np.array(edge))\n",
    "norm = np.linalg.norm(np.array(B_edge),1)\n",
    "normed_B_edge = B_edge/(norm)\n",
    "init_y_pos = []\n",
    "init_y_neg = []\n",
    "for entry in normed_B_edge:\n",
    "    if entry > 0:\n",
    "        init_y_pos.append(entry)\n",
    "        init_y_neg.append(0)\n",
    "    else:\n",
    "        init_y_pos.append(0)\n",
    "        init_y_neg.append(-entry)\n",
    "########################################################\n",
    "\n",
    "# # compute steepest-descent direction\n",
    "descent_direction, y_pos, y_neg, steepness, num_steps, solve_time, phase_times = pm.compute_sd_direction(y_pos = init_y_pos, y_neg = init_y_neg, \n",
    "                                                                                                        verbose=verbose)\n",
    "# print(f'number of nonzero entries in first descent direction: {np.count_nonzero(np.array(test_dir))}')\n",
    "simplex_iters.append(num_steps)\n",
    "sub_times['solve'].append(solve_time)\n",
    "sub_times['phase_times'].append(phase_times)\n",
    "\n",
    "t3 = time.time()\n",
    "sub_times['sd'].append(t3 - t2)\n",
    "\n",
    "    \n",
    "while abs(steepness) > EPS:\n",
    "        \n",
    "    t3 = time.time()\n",
    "    if reset:\n",
    "        pm.reset()\n",
    "        \n",
    "    # take maximal step\n",
    "    x_current, alpha, active_inds = P.take_maximal_step(descent_direction, y_pos, y_neg)  \n",
    "        \n",
    "    if iteration % 50 == 0 or iteration == 1:\n",
    "        print('\\nIteration {}'.format(iteration))\n",
    "        print('Objective: {}'.format(obj_value))\n",
    "        print('Steepness: {}'.format(steepness))\n",
    "        print('Step length: {}'.format(alpha))\n",
    "        \n",
    "    t4 = time.time()\n",
    "    obj_value = P.c.dot(x_current)\n",
    "    obj_values.append(obj_value)\n",
    "    iter_times.append(t4 - t1)\n",
    "    sub_times['step'].append(t4 - t3) \n",
    "    descent_circuits.append(descent_direction)\n",
    "    step_sizes.append(alpha)     \n",
    "                \n",
    "    if math.isinf(alpha):\n",
    "        # problem is unbounded\n",
    "        result(status=1, circuits=descent_circuits, steps=step_sizes)\n",
    "        \n",
    "    # compute steepest-descent direction\n",
    "    pm.set_active_inds(active_inds)\n",
    "    descent_direction, y_pos, y_neg, steepness, num_steps, solve_time, phase_times = pm.compute_sd_direction(verbose=verbose)\n",
    "        \n",
    "    t5 = time.time()\n",
    "    sub_times['sd'].append(t5 - t4)\n",
    "    sub_times['solve'].append(solve_time)\n",
    "    sub_times['phase_times'].append(phase_times)\n",
    "    simplex_iters.append(num_steps)\n",
    "        \n",
    "    iteration += 1\n",
    "    current_time = t5 - t1\n",
    "    if current_time > max_time:\n",
    "        result(status=2)\n",
    "    if iteration <= save_first_steps:\n",
    "        np.save('solutions/{}_{}.npy'.format(problem_name, iteration), x_current)\n",
    "\n",
    "t6 = time.time()\n",
    "total_time = t6 - t1   \n",
    "print('Total time for steepest-descent scheme: {}'.format(total_time))"
   ]
  },
  {
   "cell_type": "code",
   "execution_count": 8,
   "id": "8260bfee-93fe-4aaa-8339-5b4c4c7fd074",
   "metadata": {},
   "outputs": [
    {
     "data": {
      "text/plain": [
       "array([ 0.01813688, -0.00105307,  0.        , ...,  0.        ,\n",
       "        0.        ,  0.        ])"
      ]
     },
     "execution_count": 8,
     "metadata": {},
     "output_type": "execute_result"
    }
   ],
   "source": [
    "normed_B_edge"
   ]
  },
  {
   "cell_type": "code",
   "execution_count": null,
   "id": "c8343997-1c2c-46ff-a8e2-3ed85ae6e476",
   "metadata": {},
   "outputs": [],
   "source": [
    "np.array_equal(-P.B,np.eye(P.m_B))"
   ]
  },
  {
   "cell_type": "code",
   "execution_count": null,
   "id": "fe377f14-2253-4551-9d79-9b3baf06182a",
   "metadata": {},
   "outputs": [],
   "source": [
    "print(obj_values[-1])\n",
    "# print(x_current)"
   ]
  }
 ],
 "metadata": {
  "kernelspec": {
   "display_name": "Python 3 (ipykernel)",
   "language": "python",
   "name": "python3"
  },
  "language_info": {
   "codemirror_mode": {
    "name": "ipython",
    "version": 3
   },
   "file_extension": ".py",
   "mimetype": "text/x-python",
   "name": "python",
   "nbconvert_exporter": "python",
   "pygments_lexer": "ipython3",
   "version": "3.11.5"
  }
 },
 "nbformat": 4,
 "nbformat_minor": 5
}
