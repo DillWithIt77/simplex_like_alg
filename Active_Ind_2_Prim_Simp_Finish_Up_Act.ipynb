{
 "cells": [
  {
   "cell_type": "markdown",
   "id": "11503de9-e60e-4b8a-a75e-295a56861d04",
   "metadata": {},
   "source": [
    "# Active Ind Testing"
   ]
  },
  {
   "cell_type": "code",
   "execution_count": 1,
   "id": "ea5d230e-c1a9-48b2-b338-5e1d46ab7894",
   "metadata": {},
   "outputs": [],
   "source": [
    "import numpy as np\n",
    "import gurobipy as gp\n",
    "import math\n",
    "import sympy\n",
    "import contextlib\n",
    "import time\n",
    "import os\n",
    "from utils import result, METHODS, INF, EPS\n",
    "from mps_reader_preprocessor import read_mps_preprocess\n",
    "from polyhedral_model import PolyhedralModel\n",
    "from polyhedron import Polyhedron"
   ]
  },
  {
   "cell_type": "markdown",
   "id": "5edb1ae9-ede6-4406-8f52-17a07cc4fc21",
   "metadata": {},
   "source": [
    "## Read in Polyhedron P"
   ]
  },
  {
   "cell_type": "code",
   "execution_count": 2,
   "id": "f2e7cc94-893c-4c3a-99bc-d3ac1d13e690",
   "metadata": {},
   "outputs": [],
   "source": [
    "problem_dir = 'netlib_lp_subset'\n",
    "problem = 'kb2'\n",
    "# problem = 'adlittle'\n",
    "# problem = 'angela_test_prob'\n",
    "# problem = 'network_ex'\n",
    "# problem = 'gfrd-pnc'\n",
    "# problem = 'modszk1'\n",
    "# problem = 'cycle'\n",
    "# problem = 'cre-c'\n",
    "mps_fn=os.path.join(problem_dir, problem)\n",
    "results_dir='results'\n",
    "max_time=300\n",
    "sd_method='dual_simplex'\n",
    "reset=False,\n",
    "partition_polytope=False\n",
    "n=0\n",
    "k=0\n",
    "spindle=False\n",
    "spindle_dim=0\n",
    "n_cone_facets=0\n",
    "n_parallel_facets=0"
   ]
  },
  {
   "cell_type": "markdown",
   "id": "c19da83e-63fb-4e94-acd0-b580b1b3bb6a",
   "metadata": {},
   "source": [
    "## Perform SDCA"
   ]
  },
  {
   "cell_type": "code",
   "execution_count": 3,
   "id": "f4b93c76-d80b-4801-9948-1bce34154759",
   "metadata": {},
   "outputs": [
    {
     "name": "stdout",
     "output_type": "stream",
     "text": [
      "Reading netlib_lp_subset\\kb2...\n",
      "Building polyhedron...\n",
      "Problem size: n = 41,  m_B = 77,  m_A = 16\n",
      "Finding feasible solution...\n",
      "Set parameter Username\n",
      "Academic license - for non-commercial use only - expires 2025-04-01\n",
      "Building polyhedral model. Solve method: dual_simplex\n",
      "Set parameter Method to value 1\n",
      "Polyhedral model built!\n",
      "Polyhedral model build time: 0.0016438961029052734\n",
      "\n",
      "Iteration 0\n",
      "Objective: 0.0\n",
      "Steepness: -0.0792808268654455\n",
      "Step length: 6258.741180973611\n",
      "Number of Active Inds for Iteration 0: 28\n",
      "Switch to Facet Restriction for Iteration 0: False\n",
      "---------------------------------------------------------------\n",
      "\n",
      "Iteration 1\n",
      "Objective: -496.1981759644028\n",
      "Steepness: -0.07772243885478054\n",
      "Step length: 2117.1975229708805\n",
      "Number of Active Inds for Iteration 1: 23\n",
      "Switch to Facet Restriction for Iteration 1: True\n",
      "---------------------------------------------------------------\n",
      "Number of Active Inds for Iteration 2: 24\n",
      "Switch to Facet Restriction for Iteration 2: True\n",
      "---------------------------------------------------------------\n",
      "Number of Active Inds for Iteration 3: 26\n",
      "Switch to Facet Restriction for Iteration 3: False\n",
      "switched to primal simplex\n",
      "\n",
      "Optimal objective: -1749.9001299062058\n",
      "Total solve time: 0.0\n",
      "Number of iterations: 57.0\n",
      "Total time for steepest-descent scheme: 0.0\n"
     ]
    }
   ],
   "source": [
    "### Build Initial Polyhedron from file\n",
    "print(f'Reading {mps_fn}...')\n",
    "c, B, d, A, b = read_mps_preprocess(mps_fn)\n",
    "print('Building polyhedron...')\n",
    "P = Polyhedron(B, d, A, b, c)\n",
    "rank_A = np.linalg.matrix_rank(A)\n",
    "\n",
    "print('Finding feasible solution...')\n",
    "x_feasible, vbasis, cbasis = P.find_feasible_solution(verbose=False)\n",
    "\n",
    "x = x_feasible\n",
    "c=None\n",
    "verbose=False\n",
    "method='dual_simplex'\n",
    "reset=False\n",
    "max_time=300\n",
    "first_warm_start=None\n",
    "save_first_steps=0\n",
    "problem_name=''\n",
    "\n",
    "if c is not None:\n",
    "    P.set_objective(c)\n",
    "\n",
    "t0 = time.time()\n",
    "x_current = x\n",
    "if save_first_steps:\n",
    "    np.save('solutions/{}_0.npy'.format(problem_name), x_current)      \n",
    "active_inds = P.get_active_constraints(x_current)\n",
    "    \n",
    "pm = P.build_polyhedral_model(active_inds=active_inds, method=method)\n",
    "\n",
    "if first_warm_start is not None:\n",
    "    print('Using custom warm start')\n",
    "    pm.set_solution(first_warm_start)\n",
    "t1 = time.time()\n",
    "build_time = t1 - t0\n",
    "print('Polyhedral model build time: {}'.format(build_time))\n",
    "    \n",
    "sub_times = {'sd': [], 'step': [], 'solve': [], 'phase_times': []}\n",
    "active_inds_it = []\n",
    "descent_circuits = []\n",
    "obj_values = []\n",
    "step_sizes = []\n",
    "iter_times = []\n",
    "simplex_iters = []\n",
    "iteration = 0\n",
    "active_inds_it.append(active_inds)\n",
    "obj_value = P.c.dot(x_current)\n",
    "obj_values.append(obj_value)\n",
    "t2 = time.time()\n",
    "iter_times.append(t2 - t1)\n",
    "\n",
    "\n",
    "# compute steepest-descent direction\n",
    "descent_direction, y_pos, y_neg, steepness, num_steps, solve_time, phase_times = pm.compute_sd_direction(verbose=verbose)\n",
    "simplex_iters.append(num_steps)\n",
    "sub_times['solve'].append(solve_time)\n",
    "sub_times['phase_times'].append(phase_times)\n",
    "    \n",
    "t3 = time.time()\n",
    "sub_times['sd'].append(t3 - t2)\n",
    "simp_switches = []\n",
    "simp_switches.append(False)\n",
    "    \n",
    "while abs(steepness) > EPS:\n",
    "        \n",
    "    t3 = time.time()\n",
    "    if reset:\n",
    "        pm.reset()\n",
    "        \n",
    "    # take maximal step\n",
    "    x_current, alpha, active_inds = P.take_maximal_step(descent_direction, y_pos, y_neg)\n",
    "\n",
    "    if len(active_inds) < (P.n - rank_A):\n",
    "        simp_switches.append(True)\n",
    "    else:\n",
    "        simp_switches.append(False)\n",
    "        \n",
    "    if iteration % 50 == 0 or iteration == 1:\n",
    "        print('\\nIteration {}'.format(iteration))\n",
    "        print('Objective: {}'.format(obj_value))\n",
    "        print('Steepness: {}'.format(steepness))\n",
    "        print('Step length: {}'.format(alpha))\n",
    "        # print('Descent Direction: {}'.format(descent_direction))\n",
    "        \n",
    "    t4 = time.time()\n",
    "    active_inds_it.append(active_inds)\n",
    "    obj_value = P.c.dot(x_current)\n",
    "    obj_values.append(obj_value)\n",
    "    iter_times.append(t4 - t1)\n",
    "    sub_times['step'].append(t4 - t3) \n",
    "    descent_circuits.append(descent_direction)\n",
    "    step_sizes.append(alpha)     \n",
    "                \n",
    "    if math.isinf(alpha):\n",
    "        # problem is unbounded\n",
    "        result(status=1, circuits=descent_circuits, steps=step_sizes)\n",
    "\n",
    "    print(f'Number of Active Inds for Iteration {iteration}: {len(active_inds)}')\n",
    "    print(f'Switch to Facet Restriction for Iteration {iteration}: {simp_switches[-1]}')\n",
    "    \n",
    "    # compute steepest-descent direction\n",
    "    if simp_switches[-2] and not simp_switches[-1]:\n",
    "        print('switched to primal simplex')\n",
    "        simp_result = P.solve_lp_ws(x_current,verbose=False, record_objs=True)\n",
    "        print(simp_result)\n",
    "        break\n",
    "    else:\n",
    "        pm.set_active_inds(active_inds, simp_switch = simp_switches[-1])\n",
    "\n",
    "    print('---------------------------------------------------------------')\n",
    "        \n",
    "    descent_direction, y_pos, y_neg, steepness, num_steps, solve_time, phase_times = pm.compute_sd_direction(verbose=verbose)\n",
    "        \n",
    "    t5 = time.time()\n",
    "    sub_times['sd'].append(t5 - t4)\n",
    "    sub_times['solve'].append(solve_time)\n",
    "    sub_times['phase_times'].append(phase_times)\n",
    "    simplex_iters.append(num_steps)\n",
    "        \n",
    "    iteration += 1\n",
    "    current_time = t5 - t1\n",
    "    if current_time > max_time:\n",
    "        result(status=2)\n",
    "    if iteration <= save_first_steps:\n",
    "        np.save('solutions/{}_{}.npy'.format(problem_name, iteration), x_current)\n",
    "\n",
    "t6 = time.time()\n",
    "total_time = t6 - t1   \n",
    "print('Total time for steepest-descent scheme: {}'.format(total_time))"
   ]
  },
  {
   "cell_type": "code",
   "execution_count": 4,
   "id": "429cd463-4d8f-4832-a4c8-e819a898633e",
   "metadata": {},
   "outputs": [
    {
     "name": "stdout",
     "output_type": "stream",
     "text": [
      "41\n",
      "16\n",
      "77\n",
      "4\n"
     ]
    }
   ],
   "source": [
    "print(P.n)\n",
    "print(rank_A)\n",
    "print(P.m_B)\n",
    "print(math.floor(P.n/10))"
   ]
  },
  {
   "cell_type": "code",
   "execution_count": 5,
   "id": "67de6306-78fc-4d64-a8f2-873fb3a64934",
   "metadata": {},
   "outputs": [
    {
     "name": "stdout",
     "output_type": "stream",
     "text": [
      "\n",
      "Optimal objective: -1749.9001299062058\n",
      "Total solve time: 0.0\n",
      "Number of iterations: 57.0\n"
     ]
    }
   ],
   "source": [
    "# print(obj_values[-1])\n",
    "print(simp_result)\n",
    "# print(x_current)"
   ]
  },
  {
   "cell_type": "code",
   "execution_count": 6,
   "id": "42da0b10-4966-4f5b-925c-39c221174feb",
   "metadata": {},
   "outputs": [
    {
     "name": "stdout",
     "output_type": "stream",
     "text": [
      "Reading netlib_lp_subset\\kb2...\n",
      "Building polyhedron...\n",
      "Problem size: n = 41,  m_B = 77,  m_A = 16\n",
      "\n",
      "Solving with simplex method...\n",
      "\n",
      "Solution using simplex method:\n",
      "\n",
      "Optimal objective: -1749.9001299062058\n",
      "Total solve time: 0.0\n",
      "Number of iterations: 39.0\n"
     ]
    }
   ],
   "source": [
    "print(f'Reading {mps_fn}...')\n",
    "c, B, d, A, b = read_mps_preprocess(mps_fn)\n",
    "print('Building polyhedron...')\n",
    "P = Polyhedron(B, d, A, b, c)\n",
    "print('\\nSolving with simplex method...')\n",
    "lp_result = P.solve_lp(verbose=False, record_objs=True)\n",
    "print('\\nSolution using simplex method:')\n",
    "print(lp_result)"
   ]
  },
  {
   "cell_type": "code",
   "execution_count": 7,
   "id": "0e1fc03f-8103-45fa-9a04-18f8520fb442",
   "metadata": {},
   "outputs": [
    {
     "name": "stdout",
     "output_type": "stream",
     "text": [
      "True\n",
      "True\n"
     ]
    }
   ],
   "source": [
    "equality = np.all(np.isclose(np.dot(A, np.array(x_feasible)), b))\n",
    "inequality = np.all(np.dot(B, np.array(x_feasible))<= d)\n",
    "print(equality)\n",
    "print(inequality)"
   ]
  }
 ],
 "metadata": {
  "kernelspec": {
   "display_name": "Python 3 (ipykernel)",
   "language": "python",
   "name": "python3"
  },
  "language_info": {
   "codemirror_mode": {
    "name": "ipython",
    "version": 3
   },
   "file_extension": ".py",
   "mimetype": "text/x-python",
   "name": "python",
   "nbconvert_exporter": "python",
   "pygments_lexer": "ipython3",
   "version": "3.11.5"
  }
 },
 "nbformat": 4,
 "nbformat_minor": 5
}
