{
 "cells": [
  {
   "cell_type": "markdown",
   "id": "64719f0e-a7fb-4a8b-8ded-7c19b2e99d47",
   "metadata": {},
   "source": [
    "# HiGHs Testing"
   ]
  },
  {
   "cell_type": "code",
   "execution_count": 7,
   "id": "b74d258d-e863-4d06-a9d9-4393c88a1308",
   "metadata": {},
   "outputs": [],
   "source": [
    "import highspy\n",
    "import numpy as np\n",
    "import os\n",
    "from polyhedron import Polyhedron\n",
    "from mps_reader_preprocessor import read_mps_preprocess"
   ]
  },
  {
   "cell_type": "code",
   "execution_count": 9,
   "id": "43bfa300-f3b6-463f-bb2b-c311df91c855",
   "metadata": {},
   "outputs": [],
   "source": [
    "problem_dir = 'netlib_lp_subset'\n",
    "problem = 'network_ex'\n",
    "mps_fn=os.path.join(problem_dir, problem)"
   ]
  },
  {
   "cell_type": "code",
   "execution_count": 10,
   "id": "2cae5b26-c46d-4076-b209-b69836b8f55a",
   "metadata": {},
   "outputs": [
    {
     "name": "stdout",
     "output_type": "stream",
     "text": [
      "Reading netlib_lp_subset\\network_ex...\n",
      "Building polyhedron...\n",
      "Problem size: n = 5,  m_B = 10,  m_A = 4\n"
     ]
    }
   ],
   "source": [
    "### Build Initial Polyhedron from file\n",
    "print(f'Reading {mps_fn}...')\n",
    "c, B, d, A, b = read_mps_preprocess(mps_fn)\n",
    "print('Building polyhedron...')\n",
    "P = Polyhedron(B, d, A, b, c)"
   ]
  },
  {
   "cell_type": "code",
   "execution_count": null,
   "id": "f99baa76-062e-4b9e-aac5-264d6ded1cdf",
   "metadata": {},
   "outputs": [],
   "source": [
    "for i in range(P.n):\n",
    "    = h.addVariable(lb = 0, ub = 4)\n",
    "x1 = h.addVariable(lb = 1, ub = 7)\n",
    "\n",
    "h.addConstr(5 <=   x0 + 2*x1 <= 15)\n",
    "h.addConstr(6 <= 3*x0 + 2*x1)\n",
    "\n",
    "h.minimize(x0 + x1)"
   ]
  },
  {
   "cell_type": "code",
   "execution_count": null,
   "id": "fb1b7af5-e3a7-4d2d-960a-1bdd95754990",
   "metadata": {},
   "outputs": [],
   "source": []
  },
  {
   "cell_type": "code",
   "execution_count": null,
   "id": "02177efb-42e8-44c1-b8aa-61ecf9ac9b90",
   "metadata": {},
   "outputs": [],
   "source": []
  },
  {
   "cell_type": "code",
   "execution_count": null,
   "id": "3525648b-2dfc-4a62-9c8d-fc7d9f27bcca",
   "metadata": {},
   "outputs": [],
   "source": []
  }
 ],
 "metadata": {
  "kernelspec": {
   "display_name": "Python 3 (ipykernel)",
   "language": "python",
   "name": "python3"
  },
  "language_info": {
   "codemirror_mode": {
    "name": "ipython",
    "version": 3
   },
   "file_extension": ".py",
   "mimetype": "text/x-python",
   "name": "python",
   "nbconvert_exporter": "python",
   "pygments_lexer": "ipython3",
   "version": "3.11.5"
  }
 },
 "nbformat": 4,
 "nbformat_minor": 5
}
