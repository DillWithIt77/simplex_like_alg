{
 "cells": [
  {
   "cell_type": "markdown",
   "id": "722e6e06-196b-4406-a90d-11920a6cd78a",
   "metadata": {},
   "source": [
    "# Warm Start Results (Angela Version)"
   ]
  },
  {
   "cell_type": "markdown",
   "id": "54b3bf1d-db04-4164-ac3c-07c1b579ea8c",
   "metadata": {},
   "source": [
    "## Import Statements"
   ]
  },
  {
   "cell_type": "code",
   "execution_count": 1,
   "id": "7089bf8d-1716-43d5-bc49-daf8b27aa813",
   "metadata": {},
   "outputs": [],
   "source": [
    "import os\n",
    "import pickle\n",
    "import subprocess\n",
    "\n",
    "from main import main\n",
    "\n",
    "from glob import glob\n",
    "import numpy as np\n",
    "import random\n",
    "from matplotlib import pyplot as plt\n",
    "%matplotlib inline\n",
    "\n",
    "from utils import avg"
   ]
  },
  {
   "cell_type": "markdown",
   "id": "89bc7fef-6589-4500-a8b5-d7e9b028a11f",
   "metadata": {},
   "source": [
    "## Run Tests"
   ]
  },
  {
   "cell_type": "code",
   "execution_count": 2,
   "id": "5fb013b8-370c-400c-8de7-48ed793346f4",
   "metadata": {
    "scrolled": true
   },
   "outputs": [
    {
     "name": "stdout",
     "output_type": "stream",
     "text": [
      "\n",
      "\n",
      "\n",
      "Working on problem 1 of 79: netlib_lp_subset\\adlittle\n",
      "Reading netlib_lp_subset\\adlittle...\n",
      "Building polyhedron...\n",
      "Problem size: n = 97,  m_B = 138,  m_A = 15\n",
      "Finding feasible solution...\n",
      "Set parameter Username\n",
      "Academic license - for non-commercial use only - expires 2025-04-01\n",
      "\n",
      "Solving with simplex method...\n",
      "\n",
      "Solution using simplex method:\n",
      "\n",
      "Optimal objective: 225494.96316238024\n",
      "Total solve time: 0.0\n",
      "Number of iterations: 100.0\n",
      "\n",
      "Solving with old steepest descent...\n",
      "Reading netlib_lp_subset\\adlittle...\n",
      "Building polyhedron...\n",
      "Problem size: n = 97,  m_B = 138,  m_A = 15\n",
      "Finding feasible solution...\n",
      "Building polyhedral model. Solve method: dual_simplex\n",
      "Set parameter Method to value 1\n",
      "Polyhedral model built!\n",
      "Polyhedral model build time: 0.007779598236083984\n",
      "\n",
      "Iteration 0\n",
      "Objective: 671734.1100278501\n",
      "Steepness: -1093.3333333333335\n",
      "Step length: 1.492387497139124\n",
      "\n",
      "Iteration 1\n",
      "Objective: 670102.4330309781\n",
      "Steepness: -608.695652173913\n",
      "Step length: 14.047128014198497\n",
      "\n",
      "Iteration 50\n",
      "Objective: 225785.31769628634\n",
      "Steepness: -1.1566308634677132\n",
      "Step length: 10.69303715265792\n",
      "Total time for steepest-descent scheme: 0.07385969161987305\n",
      "\n",
      "Solving with new steepest descent...\n",
      "Reading netlib_lp_subset\\adlittle...\n",
      "Building polyhedron...\n",
      "Problem size: n = 97,  m_B = 138,  m_A = 15\n",
      "Finding feasible solution...\n",
      "Building polyhedral model. Solve method: dual_simplex\n",
      "Set parameter Method to value 1\n",
      "Polyhedral model built!\n",
      "Polyhedral model build time: 0.015285015106201172\n",
      "other warm start\n",
      "Model is feasible or optimization was successful.\n",
      "\n",
      "Iteration 0\n",
      "Objective: 671734.1100278501\n",
      "Steepness: -1093.3333333333335\n",
      "Step length: 1.492387497139124\n",
      "\n",
      "Iteration 1\n",
      "Objective: 670102.4330309781\n",
      "Steepness: -608.695652173913\n",
      "Step length: 12.807145375838324\n",
      "\n",
      "Iteration 50\n",
      "Objective: 225551.24381295108\n",
      "Steepness: -0.34487040737291175\n",
      "Step length: 11.366958984411063\n",
      "Total time for steepest-descent scheme: 0.07815194129943848\n"
     ]
    },
    {
     "ename": "NameError",
     "evalue": "name 'old_sub' is not defined",
     "output_type": "error",
     "traceback": [
      "\u001b[1;31m---------------------------------------------------------------------------\u001b[0m",
      "\u001b[1;31mNameError\u001b[0m                                 Traceback (most recent call last)",
      "Cell \u001b[1;32mIn[2], line 31\u001b[0m\n\u001b[0;32m     29\u001b[0m mps_fn \u001b[38;5;241m=\u001b[39m os\u001b[38;5;241m.\u001b[39mpath\u001b[38;5;241m.\u001b[39mjoin(problem_dir, problem)\n\u001b[0;32m     30\u001b[0m \u001b[38;5;28mprint\u001b[39m(\u001b[38;5;124m'\u001b[39m\u001b[38;5;130;01m\\n\u001b[39;00m\u001b[38;5;130;01m\\n\u001b[39;00m\u001b[38;5;130;01m\\n\u001b[39;00m\u001b[38;5;124mWorking on problem \u001b[39m\u001b[38;5;132;01m{}\u001b[39;00m\u001b[38;5;124m of \u001b[39m\u001b[38;5;132;01m{}\u001b[39;00m\u001b[38;5;124m: \u001b[39m\u001b[38;5;132;01m{}\u001b[39;00m\u001b[38;5;124m'\u001b[39m\u001b[38;5;241m.\u001b[39mformat(i\u001b[38;5;241m+\u001b[39m\u001b[38;5;241m1\u001b[39m, \u001b[38;5;28mlen\u001b[39m(problems), mps_fn)) \n\u001b[1;32m---> 31\u001b[0m old_sub, old_solve, old_phase, new_sub, new_solve, new_phase \u001b[38;5;241m=\u001b[39m \u001b[43mmain\u001b[49m\u001b[43m(\u001b[49m\u001b[43mmps_fn\u001b[49m\u001b[38;5;241;43m=\u001b[39;49m\u001b[43mmps_fn\u001b[49m\u001b[43m,\u001b[49m\u001b[43m \u001b[49m\u001b[43mresults_dir\u001b[49m\u001b[38;5;241;43m=\u001b[39;49m\u001b[43mresults_dir\u001b[49m\u001b[43m,\u001b[49m\u001b[43m \u001b[49m\u001b[43mmax_time\u001b[49m\u001b[38;5;241;43m=\u001b[39;49m\u001b[43mmax_time\u001b[49m\u001b[43m,\u001b[49m\u001b[43m \u001b[49m\u001b[43mreset\u001b[49m\u001b[38;5;241;43m=\u001b[39;49m\u001b[43mreset\u001b[49m\u001b[43m,\u001b[49m\u001b[43m \u001b[49m\n\u001b[0;32m     32\u001b[0m \u001b[43m                                                                    \u001b[49m\u001b[43msd_method\u001b[49m\u001b[38;5;241;43m=\u001b[39;49m\u001b[43msd_method\u001b[49m\u001b[43m)\u001b[49m\n\u001b[0;32m     33\u001b[0m old_sd_sub\u001b[38;5;241m.\u001b[39mappend(old_sub)\n\u001b[0;32m     34\u001b[0m old_sd_solve\u001b[38;5;241m.\u001b[39mappend(old_solve)\n",
      "File \u001b[1;32m~\\OneDrive - The University of Colorado Denver\\Documents\\GitHub\\simplex_like_alg\\main.py:35\u001b[0m, in \u001b[0;36mmain\u001b[1;34m(mps_fn, results_dir, max_time, sd_method, reset)\u001b[0m\n\u001b[0;32m     31\u001b[0m new_sd_result \u001b[38;5;241m=\u001b[39m all_sdac\u001b[38;5;241m.\u001b[39mnew_sdac(mps_fn,results_dir, max_time, reset,sd_method)\n\u001b[0;32m     32\u001b[0m \u001b[38;5;66;03m# print('\\nSolution for {} using new steepest-descent augmentation:'.format(os.path.basename(mps_fn)))\u001b[39;00m\n\u001b[0;32m     33\u001b[0m \u001b[38;5;66;03m# print(new_sd_result)\u001b[39;00m\n\u001b[1;32m---> 35\u001b[0m \u001b[38;5;28;01mreturn\u001b[39;00m \u001b[43mold_sub\u001b[49m, old_solve, old_phase, new_sub, new_solve, new_phase\n",
      "\u001b[1;31mNameError\u001b[0m: name 'old_sub' is not defined"
     ]
    }
   ],
   "source": [
    "problems = ['adlittle', 'afiro', 'agg2','agg3','agg', 'bandm',\n",
    " 'beaconfd', 'blend', 'bnl1', 'boeing1', 'boeing2', 'bore3d', 'brandy', 'capri',\n",
    " 'cycle', 'degen2', 'degen3', 'e226', 'etamacro', 'fffff800', 'finnis',\n",
    " 'fit1d', 'fit1p', 'forplan', 'ganges', 'gfrd-pnc', 'grow15', 'grow22', 'grow7',\n",
    " 'israel', 'kb2', 'ken-07', 'lotfi', 'maros', 'pds-02', 'perold',\n",
    " 'pilot4', 'pilotnov', 'qap08', 'recipe', 'sc105', 'sc205', 'sc50a',\n",
    " 'sc50b', 'scagr25', 'scagr7', 'scfxm1', 'scfxm2', 'scfxm3', 'scorpion', 'scrs8',\n",
    " 'scsd1', 'scsd6', 'scsd8', 'sctap1', 'sctap2', 'sctap3', 'seba', 'share1b',\n",
    " 'share2b', 'shell', 'ship04l', 'ship04s', 'ship08l', 'ship08s', 'ship12l', 'ship12s',\n",
    " 'sierra', 'stair', 'standata', 'standgub', 'standmps', 'stocfor1', 'stocfor2', 'tuff',\n",
    " 'vtp_base', 'wood1p', 'cre-c', 'modszk1']  \n",
    "# problems = ['bandm', 'qap08', 'scsd1', 'scsd6', 'scsd8']\n",
    "\n",
    "# 'cre-c', 'modszk1',\n",
    "    \n",
    "results_dir = 'results'\n",
    "problem_dir = 'netlib_lp_subset'\n",
    "max_time = 300\n",
    "reset = False\n",
    "sd_method = 'dual_simplex'\n",
    "old_sd_sub = []\n",
    "old_sd_solve = []\n",
    "old_sd_phase = []\n",
    "new_sd_sub = []\n",
    "new_sd_solve = []\n",
    "new_sd_phase = []\n",
    "\n",
    "for i, problem in enumerate(problems):\n",
    "    mps_fn = os.path.join(problem_dir, problem)\n",
    "    print('\\n\\n\\nWorking on problem {} of {}: {}'.format(i+1, len(problems), mps_fn)) \n",
    "    # old_sub, old_solve, old_phase, new_sub, new_solve, new_phase = main(mps_fn=mps_fn, results_dir=results_dir, max_time=max_time, reset=reset, \n",
    "    #                                                                     sd_method=sd_method)\n",
    "    main(mps_fn=mps_fn, results_dir=results_dir, max_time=max_time, reset=reset, \n",
    "                                                                        sd_method=sd_method)\n",
    "    old_sd_sub.append(old_sub)\n",
    "    old_sd_solve.append(old_solve)\n",
    "    old_sd_phase.append(old_phase[0])\n",
    "    new_sd_sub.append(new_sub)\n",
    "    new_sd_solve.append(new_solve)\n",
    "    new_sd_phase.append(new_phase[0])"
   ]
  },
  {
   "cell_type": "markdown",
   "id": "a4875315-7706-47ec-ae53-d36369d5f8fb",
   "metadata": {},
   "source": [
    "## View Results"
   ]
  },
  {
   "cell_type": "code",
   "execution_count": null,
   "id": "3d9fb5b3-1f4b-4cd1-a2ee-47de4b77db2a",
   "metadata": {},
   "outputs": [],
   "source": [
    "print(f'Average old sd time: {np.mean(np.array(old_sd_sub))}')\n",
    "print(f'Average new sd time: {np.mean(np.array(new_sd_sub))}')\n",
    "print(f'Average old solve time: {np.mean(np.array(old_sd_solve))}')\n",
    "print(f'Average new solve time: {np.mean(np.array(new_sd_solve))}')\n",
    "print(f'Average old phase 1 time: {np.mean(np.array(old_sd_phase))}')\n",
    "print(f'Average new phase 1 time: {np.mean(np.array(new_sd_phase))}')"
   ]
  },
  {
   "cell_type": "code",
   "execution_count": null,
   "id": "9ff93d04-404e-4c4a-82f3-f7f6bb070284",
   "metadata": {},
   "outputs": [],
   "source": [
    "print(f'Median old sd time: {np.median(np.array(old_sd_sub))}')\n",
    "print(f'Median new sd time: {np.median(np.array(new_sd_sub))}')\n",
    "print(f'Median old solve time: {np.median(np.array(old_sd_solve))}')\n",
    "print(f'Median new solve time: {np.median(np.array(new_sd_solve))}')\n",
    "print(f'Median old phase 1 time: {np.median(np.array(old_sd_phase))}')\n",
    "print(f'Median new phase 1 time: {np.median(np.array(new_sd_phase))}')"
   ]
  },
  {
   "cell_type": "code",
   "execution_count": null,
   "id": "b3bf73c5-c43c-4c10-a07a-a5da16e6a22b",
   "metadata": {},
   "outputs": [],
   "source": [
    "# print(np.array(old_sd_sub))\n",
    "# print(np.array(new_sd_sub))\n",
    "# print(np.array(old_sd_phase))\n",
    "# print(np.array(new_sd_phase))"
   ]
  }
 ],
 "metadata": {
  "kernelspec": {
   "display_name": "Python 3 (ipykernel)",
   "language": "python",
   "name": "python3"
  },
  "language_info": {
   "codemirror_mode": {
    "name": "ipython",
    "version": 3
   },
   "file_extension": ".py",
   "mimetype": "text/x-python",
   "name": "python",
   "nbconvert_exporter": "python",
   "pygments_lexer": "ipython3",
   "version": "3.11.5"
  }
 },
 "nbformat": 4,
 "nbformat_minor": 5
}
